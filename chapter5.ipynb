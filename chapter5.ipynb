{
 "cells": [
  {
   "cell_type": "code",
   "execution_count": 192,
   "id": "married-forge",
   "metadata": {},
   "outputs": [
    {
     "name": "stdout",
     "output_type": "stream",
     "text": [
      "The autoreload extension is already loaded. To reload it, use:\n",
      "  %reload_ext autoreload\n"
     ]
    }
   ],
   "source": [
    "%load_ext autoreload \n",
    "%autoreload 2\n",
    "import numpy as np\n",
    "import random\n",
    "from colossus.cosmology import cosmology\n",
    "cosmology.setCosmology('planck18')\n",
    "from colossus.halo import concentration, mass_defs\n",
    "import matplotlib.pyplot as plt\n",
    "import matplotlib.cm as cm\n",
    "import matplotlib\n",
    "from pylab import rcParams\n",
    "from matplotlib import rc;rc('text', usetex=True);rc('font', weight='bold');matplotlib.rcParams['text.latex.preamble'] = r'\\boldmath'\n",
    "rcParams['font.family'] = 'serif'\n",
    "rc('text.latex',preamble=r'\\usepackage{/Volumes/Extreme_SSD/codes/master_thesis/code/configs/apjfonts}')\n",
    "sz_ft = 20\n",
    "sz_lb = 14\n",
    "color_arr = ['indigo', 'royalblue', 'lightseagreen', 'darkgreen', 'goldenrod', 'darkred']\n",
    "from tqdm import tqdm\n",
    "import cosmo\n",
    "import lensing_estimator\n",
    "from cosmo import CosmoCalc\n",
    "import lensing\n",
    "import foregrounds as fg\n",
    "import experiments as exp\n",
    "import sims\n",
    "import stats\n",
    "import tools"
   ]
  },
  {
   "cell_type": "markdown",
   "id": "weird-flashing",
   "metadata": {},
   "source": [
    "## General Settings, Background Stacks, and Covariance Matrices"
   ]
  },
  {
   "cell_type": "code",
   "execution_count": null,
   "id": "rolled-disclaimer",
   "metadata": {},
   "outputs": [],
   "source": [
    "nber_clus = 3000\n",
    "nber_rand = 50000\n",
    "nber_cov = 1000\n",
    "nber_runs = 25\n",
    "map_params = [180, 0.5, 180, 0.5]\n",
    "l, cl = CosmoCalc().cmb_power_spectrum()\n",
    "l, bl = exp.beam_power_spectrum(beam_fwhm = 1.0)\n",
    "noiseval_arr = [0.1, 0.25, 0.5, 1, 2, 3, 5]\n",
    "nl_arr = []\n",
    "cl_noise_arr = []\n",
    "for noiseval in noiseval_arr:\n",
    "    l, nl = exp.white_noise_power_spectrum(noiseval_white = noiseval)\n",
    "    l, nl_deconvolved =exp.white_noise_power_spectrum(noiseval_white = noiseval, beam_fwhm = 1.0)\n",
    "    nl_arr.append(nl)\n",
    "    cl_noise_arr.append(nl_deconvolved)\n",
    "z = 0.7"
   ]
  },
  {
   "cell_type": "code",
   "execution_count": 4,
   "id": "departmental-prior",
   "metadata": {},
   "outputs": [],
   "source": [
    "for i, noiseval in enumerate(noiseval_arr):\n",
    "    maps_rand = sims.cmb_mock_data(map_params, l, cl,  bl = bl, nl = nl_arr[i], nber_obs = nber_rand)\n",
    "    stack_bg = lensing_estimator.stack(map_params, maps_rand, l = l, cl = cl, cl_noise = cl_noise_arr[i])\n",
    "    del maps_rand\n",
    "    np.save('/Volumes/Extreme_SSD/codes/master_thesis/code/results/stack_bg_50000rand_'+str(noiseval)+'uK-arcmin.npy', stack_bg)   "
   ]
  },
  {
   "cell_type": "code",
   "execution_count": null,
   "id": "vocational-robertson",
   "metadata": {},
   "outputs": [],
   "source": [
    "for i, noiseval in enumerate(noiseval_arr):\n",
    "    covariance_matrix, _ = lensing_estimator.covariance_and_correlation_matrix(nber_cov, nber_clus, map_params, l, cl, bl = bl, nl = nl_arr[i], cl_noise = cl_noise_arr[i])\n",
    "    np.save('/Volumes/Extreme_SSD/codes/master_thesis/code/results/covariance_matrix_3000clus_'+str(noiseval)+'uK-arcmin.npy', covariance_matrix)  "
   ]
  },
  {
   "cell_type": "markdown",
   "id": "nutritional-kidney",
   "metadata": {},
   "source": [
    "## Estimator Validation"
   ]
  },
  {
   "cell_type": "code",
   "execution_count": 194,
   "id": "magnetic-nightmare",
   "metadata": {},
   "outputs": [],
   "source": [
    "cluster_2e14 = [2e14, cosmo.concentration_parameter(2e14, z, 0.674), z]\n",
    "cluster_6e14 = [6e14, cosmo.concentration_parameter(6e14, z, 0.674), z]\n",
    "cluster_10e14 = [10e14, cosmo.concentration_parameter(10e14, z, 0.674), z]\n",
    "cluster_arr = [cluster_2e14, cluster_6e14, cluster_10e14]\n",
    "mass_int = np.arange(0, 12, 0.1)"
   ]
  },
  {
   "cell_type": "code",
   "execution_count": 6,
   "id": "hollywood-musician",
   "metadata": {},
   "outputs": [
    {
     "name": "stderr",
     "output_type": "stream",
     "text": [
      "  0%|          | 0/3000 [00:00<?, ?it/s]/Volumes/Extreme_SSD/codes/master_thesis/code/lensing.py:95: RuntimeWarning: invalid value encountered in double_scalars\n",
      "  r_s = r_200/self.c_200\n",
      "/Volumes/Extreme_SSD/codes/master_thesis/code/lensing.py:96: RuntimeWarning: invalid value encountered in double_scalars\n",
      "  rho_s = (200 / 3) * rho_c * (self.c_200 ** 3 / (np.log(1 + self.c_200) - (self.c_200 / (1 + self.c_200))))\n",
      "/Volumes/Extreme_SSD/codes/master_thesis/code/lensing.py:117: RuntimeWarning: divide by zero encountered in arctanh\n",
      "  f[x3] = (1/np.sqrt(1-x[x3]**2))*np.arctanh(np.sqrt(1-x[x3]**2))\n",
      "/Volumes/Extreme_SSD/codes/master_thesis/code/lensing.py:45: RuntimeWarning: invalid value encountered in true_divide\n",
      "  alphaX_fft =  1j * lX * 2. *  kappa_map_fft / l2d**2\n",
      "/Volumes/Extreme_SSD/codes/master_thesis/code/lensing.py:46: RuntimeWarning: invalid value encountered in true_divide\n",
      "  alphaY_fft =  1j * lY * 2. *  kappa_map_fft / l2d**2\n",
      "100%|██████████| 3000/3000 [2:45:51<00:00,  3.32s/it]  \n",
      "100%|██████████| 120/120 [00:01<00:00, 69.61it/s]\n"
     ]
    }
   ],
   "source": [
    "model_profiles_estimator_validation = lensing_estimator.model_profiles(nber_clus, map_params, l, cl, mass_int, z, bl = bl, cl_noise = cl_noise_arr[4])\n",
    "np.save('/Volumes/Extreme_SSD/codes/master_thesis/code/results/model_profiles_estimator_validation.npy', model_profiles_estimator_validation)    "
   ]
  },
  {
   "cell_type": "code",
   "execution_count": 195,
   "id": "serious-laptop",
   "metadata": {},
   "outputs": [
    {
     "name": "stderr",
     "output_type": "stream",
     "text": [
      "  0%|          | 0/100 [00:00<?, ?it/s]/Volumes/Extreme_SSD/codes/master_thesis/code/lensing.py:117: RuntimeWarning: divide by zero encountered in arctanh\n",
      "  f[x3] = (1/np.sqrt(1-x[x3]**2))*np.arctanh(np.sqrt(1-x[x3]**2))\n",
      "/Volumes/Extreme_SSD/codes/master_thesis/code/lensing.py:45: RuntimeWarning: invalid value encountered in true_divide\n",
      "  alphaX_fft =  1j * lX * 2. *  kappa_map_fft / l2d**2\n",
      "/Volumes/Extreme_SSD/codes/master_thesis/code/lensing.py:46: RuntimeWarning: invalid value encountered in true_divide\n",
      "  alphaY_fft =  1j * lY * 2. *  kappa_map_fft / l2d**2\n",
      "100%|██████████| 100/100 [5:05:25<00:00, 183.26s/it] \n"
     ]
    }
   ],
   "source": [
    "stack_bg = np.load('/Volumes/Extreme_SSD/codes/master_thesis/code/results/stack_bg_50000rand_2uK-arcmin.npy')   \n",
    "covariance_matrix = np.load('/Volumes/Extreme_SSD/codes/master_thesis/code/results/covariance_matrix_3000clus_2uK-arcmin.npy')  \n",
    "model_profiles = np.load('/Volumes/Extreme_SSD/codes/master_thesis/code/results/model_profiles_estimator_validation.npy')    \n",
    "\n",
    "\n",
    "lk_arr_2e14 = []      \n",
    "lk_arr_6e14 = []  \n",
    "lk_arr_10e14 = []  \n",
    "for i in tqdm(range(nber_runs)):  \n",
    "    maps_clus = sims.cmb_test_data(map_params, l, cl, cluster = cluster_arr, bl = bl, nl = nl_arr[4], nber_obs = nber_clus, estimator_validation = True)\n",
    "    maps_clus_2e14, maps_clus_6e14, maps_clus_10e14 = maps_clus[0], maps_clus[1], maps_clus[2]\n",
    "    stack_clus_2e14 = lensing_estimator.stack(map_params, maps_clus_2e14, l = l, cl = cl, cl_noise = cl_noise_arr[4])\n",
    "    stack_clus_6e14 = lensing_estimator.stack(map_params, maps_clus_6e14, l = l, cl = cl, cl_noise = cl_noise_arr[4])\n",
    "    stack_clus_10e14 = lensing_estimator.stack(map_params, maps_clus_10e14, l = l, cl = cl, cl_noise = cl_noise_arr[4])\n",
    "    bins_2e14, lensing_dipole_profile_2e14, stack_dipole_2e14 = lensing_estimator.lensing_dipole(map_params, stack_clus_2e14, stack_bg)\n",
    "    bins_6e14, lensing_dipole_profile_6e14, stack_dipole_6e14 = lensing_estimator.lensing_dipole(map_params, stack_clus_6e14, stack_bg)\n",
    "    bins_10e14, lensing_dipole_profile_10e14, stack_dipole_10e14 = lensing_estimator.lensing_dipole(map_params, stack_clus_10e14, stack_bg)\n",
    "    data_2e14 = bins_2e14, lensing_dipole_profile_2e14, covariance_matrix\n",
    "    data_6e14 = bins_6e14, lensing_dipole_profile_6e14, covariance_matrix\n",
    "    data_10e14 = bins_10e14, lensing_dipole_profile_10e14, covariance_matrix\n",
    "   \n",
    "\n",
    "    likelihood_2e14, _, _ = stats.run_ml(data_2e14, model_profiles, mass_int)\n",
    "    mass_int_lk_2e14, lk_2e14 = likelihood_2e14\n",
    "    likelihood_6e14, _, _ = stats.run_ml(data_6e14, model_profiles, mass_int)\n",
    "    mass_int_lk_6e14, lk_6e14 = likelihood_6e14\n",
    "    likelihood_10e14, _, _ = stats.run_ml(data_10e14, model_profiles, mass_int)\n",
    "    mass_int_lk_10e14, lk_10e14 = likelihood_10e14\n",
    "    lk_arr_2e14.append(lk_2e14)\n",
    "    lk_arr_6e14.append(lk_6e14)\n",
    "    lk_arr_10e14.append(lk_10e14)\n",
    "\n",
    "    del maps_clus\n",
    "    del maps_clus_2e14\n",
    "    del maps_clus_6e14\n",
    "    del maps_clus_10e14\n",
    "\n",
    "\n",
    "lk_arr_estimator_validation = [lk_arr_2e14, lk_arr_6e14, lk_arr_10e14]\n",
    "for i, mass in enumerate([2, 6, 10]):\n",
    "    np.save('/Volumes/Extreme_SSD/codes/master_thesis/code/results/lk_arr_estimator_validation_'+str(mass)+'e14.npy', lk_arr_estimator_validation[i]) \n",
    "    \n",
    "comb_lk_2e14, mass_value_comb_lk_2e14, error_comb_lk_2e14 = stats.combined_likelihood(mass_int_lk_2e14, lk_arr_2e14)      \n",
    "comb_lk_6e14, mass_value_comb_lk_6e14, error_comb_lk_6e14 = stats.combined_likelihood(mass_int_lk_6e14, lk_arr_6e14)      \n",
    "comb_lk_10e14, mass_value_comb_lk_10e14, error_comb_lk_10e14 = stats.combined_likelihood(mass_int_lk_10e14, lk_arr_10e14)      \n",
    "comb_lk_arr_estimator_validation = [comb_lk_2e14, comb_lk_6e14, comb_lk_10e14]\n",
    "for i, mass in enumerate([2, 6, 10]):\n",
    "    np.save('/Volumes/Extreme_SSD/codes/master_thesis/code/results/comb_lk_estimator_validation_'+str(mass)+'e14.npy', comb_lk_arr_estimator_validation[i]) \n",
    "\n",
    "mass_results_estimator_validation = \"{0:11.3f}{1:>1}{2:5.3f}\".format(mass_value_comb_lk_2e14, \"+-\", error_comb_lk_2e14) + \"\\n\"\n",
    "mass_results_estimator_validation += \"{0:11.3f}{1:>1}{2:5.3f}\".format(mass_value_comb_lk_6e14, \"+-\", error_comb_lk_6e14) + \"\\n\"          \n",
    "mass_results_estimator_validation += \"{0:11.3f}{1:>1}{2:5.3f}\".format(mass_value_comb_lk_10e14, \"+-\", error_comb_lk_10e14) + \"\\n\"\n",
    "file = open('/Volumes/Extreme_SSD/codes/master_thesis/code/results/mass_results_estimator_validation.txt',\"w\")\n",
    "file.write(mass_results_estimator_validation)\n",
    "file.close() "
   ]
  },
  {
   "cell_type": "code",
   "execution_count": 288,
   "id": "efficient-standing",
   "metadata": {},
   "outputs": [
    {
     "data": {
      "image/png": "[encoded data removed]",
      "text/plain": [
       "<Figure size 1152x360 with 3 Axes>"
      ]
     },
     "metadata": {
      "needs_background": "light"
     },
     "output_type": "display_data"
    }
   ],
   "source": [
    "lk_arr_estimator_validation = []\n",
    "for mass in [2, 6, 10]:\n",
    "    lk = np.load('/Volumes/Extreme_SSD/codes/master_thesis/code/results/lk_arr_estimator_validation_'+str(mass)+'e14.npy') \n",
    "    lk_arr_estimator_validation.append(lk)\n",
    "\n",
    "comb_lk_arr_estimator_validation = []\n",
    "for mass in [2, 6, 10]:\n",
    "    comb_lk = np.load('/Volumes/Extreme_SSD/codes/master_thesis/code/results/comb_lk_estimator_validation_'+str(mass)+'e14.npy')     \n",
    "    comb_lk_arr_estimator_validation.append(comb_lk)\n",
    "    \n",
    "fig, axs = plt.subplots(1, 3, sharex='col', sharey='row',\n",
    "                        gridspec_kw={'hspace': 0, 'wspace': 0}, figsize=(16,5))\n",
    "(ax1, ax2, ax3) = axs\n",
    "\n",
    "for i in range(nber_runs):\n",
    "    ax1.plot(mass_int_lk_2e14[0:4000], lk_arr_estimator_validation[0][i][0:4000], color = 'red', ls='-', alpha = 0.1)\n",
    "ax1.plot(mass_int_lk_2e14[0:4000], comb_lk_arr_estimator_validation[0][0:4000], color = 'black', ls = '-', label = 'Combined')\n",
    "ax1.tick_params(labelsize = sz_lb)\n",
    "ax1.axvline(2, color = 'green', ls = '--', label = 'True') \n",
    "ax1.set_xlabel(r'$M \\ [10^{14}M_\\odot]$', fontsize = sz_ft)   \n",
    "ax1.set_ylabel('Normalized '+r'$\\mathcal{L}$', fontsize = sz_ft)\n",
    "ax1.legend(loc = 'upper left', prop={'size': sz_lb}) \n",
    "for i in range(nber_runs):\n",
    "    ax2.plot(mass_int_lk_6e14[4000:8000], lk_arr_estimator_validation[1][i][4000:8000], color = 'red', ls='-', alpha = 0.1)\n",
    "ax2.plot(mass_int_lk_6e14[4000:8000], comb_lk_arr_estimator_validation[1][4000:8000], color = 'black', ls = '-', label = 'Combined')\n",
    "ax2.tick_params(labelsize = sz_lb)\n",
    "ax2.axvline(6, color = 'green', ls = '--', label = 'True') \n",
    "ax2.set_xlabel(r'$M \\ [10^{14}M_\\odot]$', fontsize = sz_ft) \n",
    "ax2.legend(prop={'size': sz_lb}) \n",
    "for i in range(nber_runs):\n",
    "    ax3.plot(mass_int_lk_10e14[8000:], lk_arr_estimator_validation[2][i][8000:], color = 'red', ls='-', alpha = 0.1)\n",
    "ax3.plot(mass_int_lk_10e14[8000:], comb_lk_arr_estimator_validation[2][8000:], color = 'black', ls = '-', label = 'Combined')\n",
    "ax3.tick_params(labelsize = sz_lb)\n",
    "ax3.axvline(10, color = 'green', ls = '--', label = 'True') \n",
    "ax3.set_xlabel(r'$M\\ [10^{14}M_\\odot]$', fontsize = sz_ft) \n",
    "ax3.legend(prop={'size': sz_lb}) \n",
    "plt.savefig('/Volumes/Extreme_SSD/codes/master_thesis/code/figures/estimator_validation.svg', dpi = 200., bbox_inches = 'tight', pad_inches = 0.1)"
   ]
  },
  {
   "cell_type": "markdown",
   "id": "exterior-belize",
   "metadata": {},
   "source": [
    "## Estimator Comparison "
   ]
  },
  {
   "cell_type": "code",
   "execution_count": 102,
   "id": "mounted-death",
   "metadata": {},
   "outputs": [],
   "source": [
    "cluster = [2e14, cosmo.concentration_parameter(2e14, 0.7, 0.674), 0.7]\n",
    "mass_int = np.arange(0, 4, 0.1)"
   ]
  },
  {
   "cell_type": "code",
   "execution_count": null,
   "id": "diagnostic-poland",
   "metadata": {},
   "outputs": [
    {
     "name": "stderr",
     "output_type": "stream",
     "text": [
      "100%|██████████| 1000/1000 [8:05:46<00:00, 29.15s/it] \n",
      "100%|██████████| 1000/1000 [7:51:51<00:00, 28.31s/it] \n",
      "100%|██████████| 1000/1000 [7:55:18<00:00, 28.52s/it] \n",
      " 75%|███████▌  | 752/1000 [6:16:29<2:11:26, 31.80s/it]"
     ]
    }
   ],
   "source": [
    "noiseval_arr1 = [0.25, 0.5, 1, 3]\n",
    "nl_arr1 = []\n",
    "cl_noise_arr1 = []\n",
    "for noiseval1 in noiseval_arr1:\n",
    "    l, nl1 = exp.white_noise_power_spectrum(noiseval_white = noiseval1)\n",
    "    l, nl_deconvolved1 =exp.white_noise_power_spectrum(noiseval_white = noiseval1, beam_fwhm = 1.0)\n",
    "    nl_arr1.append(nl1)\n",
    "    cl_noise_arr1.append(nl_deconvolved1)\n",
    "for i, noiseval1 in enumerate(noiseval_arr1):\n",
    "    covariance_matrix, _ = lensing_estimator.covariance_and_correlation_matrix(nber_cov, nber_clus, map_params, l, cl, bl = bl, nl = nl_arr1[i], cl_noise = cl_noise_arr1[i])\n",
    "    np.save('/Volumes/Extreme_SSD/codes/master_thesis/code/results/covariance_matrix_3000clus_'+str(noiseval1)+'uK-arcmin.npy', covariance_matrix)  "
   ]
  },
  {
   "cell_type": "code",
   "execution_count": null,
   "id": "material-sweden",
   "metadata": {},
   "outputs": [],
   "source": [
    "for i, noiseval in enumerate(noiseval_arr):\n",
    "    model_profiles = lensing_estimator.model_profiles(nber_clus, map_params, l, cl, mass_int, z, bl = bl, cl_noise = cl_noise_arr[i])\n",
    "    np.save('/Volumes/Extreme_SSD/codes/master_thesis/code/results/model_profiles_'+str(noiseval)+'uK-arcmin.npy', model_profiles)    "
   ]
  },
  {
   "cell_type": "code",
   "execution_count": null,
   "id": "likely-inventory",
   "metadata": {},
   "outputs": [],
   "source": [
    "stack_bg_01uK_arcmin = np.load('/Volumes/Extreme_SSD/codes/master_thesis/code/results/stack_bg_50000rand_0.1uK-arcmin.npy')\n",
    "stack_bg_025uK_arcmin = np.load('/Volumes/Extreme_SSD/codes/master_thesis/code/results/stack_bg_50000rand_0.25uK-arcmin.npy')   \n",
    "stack_bg_05uK_arcmin = np.load('/Volumes/Extreme_SSD/codes/master_thesis/code/results/stack_bg_50000rand_0.5uK-arcmin.npy')   \n",
    "stack_bg_1uK_arcmin = np.load('/Volumes/Extreme_SSD/codes/master_thesis/code/results/stack_bg_50000rand_1uK-arcmin.npy')   \n",
    "stack_bg_2uK_arcmin = np.load('/Volumes/Extreme_SSD/codes/master_thesis/code/results/stack_bg_50000rand_2uK-arcmin.npy')   \n",
    "stack_bg_3uK_arcmin = np.load('/Volumes/Extreme_SSD/codes/master_thesis/code/results/stack_bg_50000rand_3uK-arcmin.npy')   \n",
    "stack_bg_5uK_arcmin = np.load('/Volumes/Extreme_SSD/codes/master_thesis/code/results/stack_bg_50000rand_5uK-arcmin.npy')   \n",
    "\n",
    "\n",
    "covariance_matrix_01uK_arcmin = np.load('/Volumes/Extreme_SSD/codes/master_thesis/code/results/covariance_matrix_3000clus_0.1uK-arcmin.npy')  \n",
    "covariance_matrix_025uK_arcmin = np.load('/Volumes/Extreme_SSD/codes/master_thesis/code/results/covariance_matrix_3000clus_0.25uK-arcmin.npy')  \n",
    "covariance_matrix_05uK_arcmin = np.load('/Volumes/Extreme_SSD/codes/master_thesis/code/results/covariance_matrix_3000clus_0.5uK-arcmin.npy')  \n",
    "covariance_matrix_1uK_arcmin = np.load('/Volumes/Extreme_SSD/codes/master_thesis/code/results/covariance_matrix_3000clus_1uK-arcmin.npy')  \n",
    "covariance_matrix_2uK_arcmin = np.load('/Volumes/Extreme_SSD/codes/master_thesis/code/results/covariance_matrix_3000clus_2uK-arcmin.npy')  \n",
    "covariance_matrix_3uK_arcmin = np.load('/Volumes/Extreme_SSD/codes/master_thesis/code/results/covariance_matrix_3000clus_3uK-arcmin.npy')  \n",
    "covariance_matrix_5uK_arcmin = np.load('/Volumes/Extreme_SSD/codes/master_thesis/code/results/covariance_matrix_3000clus_5uK-arcmin.npy')  \n",
    "\n",
    "model_profiles_01uK_arcmin = np.load('/Volumes/Extreme_SSD/codes/master_thesis/code/results/model_profiles_0.1uK-arcmin.npy')    \n",
    "model_profiles_025uK_arcmin = np.load('/Volumes/Extreme_SSD/codes/master_thesis/code/results/model_profiles_0.25uK-arcmin.npy')    \n",
    "model_profiles_05uK_arcmin = np.load('/Volumes/Extreme_SSD/codes/master_thesis/code/results/model_profiles_0.5uK-arcmin.npy')    \n",
    "model_profiles_1uK_arcmin = np.load('/Volumes/Extreme_SSD/codes/master_thesis/code/results/model_profiles_1uK-arcmin.npy')   \n",
    "model_profiles_2uK_arcmin = np.load('/Volumes/Extreme_SSD/codes/master_thesis/code/results/model_profiles_2uK-arcmin.npy')    \n",
    "model_profiles_3uK_arcmin = np.load('/Volumes/Extreme_SSD/codes/master_thesis/code/results/model_profiles_3uK-arcmin.npy')    \n",
    "model_profiles_5uK_arcmin = np.load('/Volumes/Extreme_SSD/codes/master_thesis/code/results/model_profiles_5uK-arcmin.npy')    \n",
    "\n",
    "\n",
    "lk_arr_01uK_arcmin, lk_arr_025uK_arcmin, lk_arr_05uK_arcmin, lk_arr_1uK_arcmin = [], [], [], []\n",
    "lk_arr_2uK_arcmin, lk_arr_3uK_arcmin, lk_arr_5uK_arcmin = [], [], []\n",
    "for i in tqdm(range(nber_runs)):\n",
    "    maps_clus = sims.cmb_test_data(map_params, l, cl, cluster = cluster, bl = bl, nl = nl_arr, nber_obs = nber_clus, noise_comparison = True)\n",
    "    maps_clus_01uK_arcmin, maps_clus_025uK_arcmin, maps_clus_05uK_arcmin, maps_clus_1uK_arcmin, maps_clus_2uK_arcmin, maps_clus_3uK_arcmin, maps_clus_5uK_arcmin = maps_clus[0], maps_clus[1], maps_clus[2], maps_clus[3],  maps_clus[4], maps_clus[5],  maps_clus[6] \n",
    "\n",
    "    stack_clus_01uK_arcmin = lensing_estimator.stack(map_params, maps_clus_01uK_arcmin, l = l, cl = cl, cl_noise = cl_noise_arr[0])\n",
    "    stack_clus_025uK_arcmin = lensing_estimator.stack(map_params, maps_clus_025uK_arcmin, l = l, cl = cl, cl_noise = cl_noise_arr[1])\n",
    "    stack_clus_05uK_arcmin = lensing_estimator.stack(map_params, maps_clus_05uK_arcmin, l = l, cl = cl, cl_noise = cl_noise_arr[2])\n",
    "    stack_clus_1uK_arcmin = lensing_estimator.stack(map_params, maps_clus_1uK_arcmin, l = l, cl = cl, cl_noise = cl_noise_arr[3])\n",
    "    stack_clus_2uK_arcmin = lensing_estimator.stack(map_params, maps_clus_2uK_arcmin, l = l, cl = cl, cl_noise = cl_noise_arr[4])\n",
    "    stack_clus_3uK_arcmin = lensing_estimator.stack(map_params, maps_clus_3uK_arcmin, l = l, cl = cl, cl_noise = cl_noise_arr[5])\n",
    "    stack_clus_5uK_arcmin = lensing_estimator.stack(map_params, maps_clus_5uK_arcmin, l = l, cl = cl, cl_noise = cl_noise_arr[6])\n",
    "\n",
    "\n",
    "    bins_01uK_arcmin, lensing_dipole_profile_01uK_arcmin, stack_dipole_01uK_arcmin = lensing_estimator.lensing_dipole(map_params, stack_clus_01uK_arcmin, stack_bg_01uK_arcmin)\n",
    "    bins_025uK_arcmin, lensing_dipole_profile_025uK_arcmin, stack_dipole_025uK_arcmin = lensing_estimator.lensing_dipole(map_params, stack_clus_025uK_arcmin, stack_bg_025uK_arcmin)\n",
    "    bins_05uK_arcmin, lensing_dipole_profile_05uK_arcmin, stack_dipole_05uK_arcmin = lensing_estimator.lensing_dipole(map_params, stack_clus_05uK_arcmin, stack_bg_05uK_arcmin)\n",
    "    bins_1uK_arcmin, lensing_dipole_profile_1uK_arcmin, stack_dipole_1uK_arcmin = lensing_estimator.lensing_dipole(map_params, stack_clus_1uK_arcmin, stack_bg_1uK_arcmin)\n",
    "    bins_2uK_arcmin, lensing_dipole_profile_2uK_arcmin, stack_dipole_2uK_arcmin = lensing_estimator.lensing_dipole(map_params, stack_clus_2uK_arcmin, stack_bg_2uK_arcmin)\n",
    "    bins_3uK_arcmin, lensing_dipole_profile_3uK_arcmin, stack_dipole_3uK_arcmin = lensing_estimator.lensing_dipole(map_params, stack_clus_3uK_arcmin, stack_bg_3uK_arcmin)\n",
    "    bins_5uK_arcmin, lensing_dipole_profile_5uK_arcmin, stack_dipole_5uK_arcmin = lensing_estimator.lensing_dipole(map_params, stack_clus_5uK_arcmin, stack_bg_5uK_arcmin)\n",
    "\n",
    "\n",
    "    data_01uK_arcmin = bins_01uK_arcmin, lensing_dipole_profile_01uK_arcmin, covariance_matrix_01uK_arcmin\n",
    "    data_025uK_arcmin = bins_025uK_arcmin, lensing_dipole_profile_025uK_arcmin, covariance_matrix_025uK_arcmin\n",
    "    data_05uK_arcmin = bins_05uK_arcmin, lensing_dipole_profile_05uK_arcmin, covariance_matrix_05uK_arcmin\n",
    "    data_1uK_arcmin = bins_1uK_arcmin, lensing_dipole_profile_1uK_arcmin, covariance_matrix_1uK_arcmin\n",
    "    data_2uK_arcmin = bins_2uK_arcmin, lensing_dipole_profile_2uK_arcmin, covariance_matrix_2uK_arcmin\n",
    "    data_3uK_arcmin = bins_3uK_arcmin, lensing_dipole_profile_3uK_arcmin, covariance_matrix_3uK_arcmin\n",
    "    data_5uK_arcmin = bins_5uK_arcmin, lensing_dipole_profile_5uK_arcmin, covariance_matrix_5uK_arcmin\n",
    "\n",
    "\n",
    "    likelihood_01uK_arcmin, _, _ = stats.run_ml(data_01uK_arcmin, model_profiles_01uK_arcmin, mass_int)\n",
    "    mass_int_lk_01uK_arcmin, lk_01uK_arcmin = likelihood_01uK_arcmin\n",
    "    likelihood_025uK_arcmin, _, _ = stats.run_ml(data_025uK_arcmin, model_profiles_025uK_arcmin, mass_int)\n",
    "    mass_int_lk_025uK_arcmin, lk_025uK_arcmin = likelihood_025uK_arcmin\n",
    "    likelihood_05uK_arcmin, _, _ = stats.run_ml(data_05uK_arcmin, model_profiles_05uK_arcmin, mass_int)\n",
    "    mass_int_lk_05uK_arcmin, lk_05uK_arcmin = likelihood_05uK_arcmin    \n",
    "    likelihood_1uK_arcmin, _, _ = stats.run_ml(data_1uK_arcmin, model_profiles_1uK_arcmin, mass_int)\n",
    "    mass_int_lk_1uK_arcmin, lk_1uK_arcmin = likelihood_1uK_arcmin   \n",
    "    likelihood_2uK_arcmin, _, _ = stats.run_ml(data_2uK_arcmin, model_profiles_2uK_arcmin, mass_int)\n",
    "    mass_int_lk_2uK_arcmin, lk_2uK_arcmin = likelihood_2uK_arcmin      \n",
    "    likelihood_3uK_arcmin, _, _ = stats.run_ml(data_3uK_arcmin, model_profiles_3uK_arcmin, mass_int)\n",
    "    mass_int_lk_3uK_arcmin, lk_3uK_arcmin = likelihood_3uK_arcmin    \n",
    "    likelihood_5uK_arcmin, _, _ = stats.run_ml(data_5uK_arcmin, model_profiles_5uK_arcmin, mass_int)\n",
    "    mass_int_lk_5uK_arcmin, lk_5uK_arcmin = likelihood_5uK_arcmin    \n",
    "\n",
    "\n",
    "    lk_arr_01uK_arcmin.append(lk_01uK_arcmin)\n",
    "    lk_arr_025uK_arcmin.append(lk_025uK_arcmin)\n",
    "    lk_arr_05uK_arcmin.append(lk_05uK_arcmin)\n",
    "    lk_arr_1uK_arcmin.append(lk_1uK_arcmin)\n",
    "    lk_arr_2uK_arcmin.append(lk_2uK_arcmin)\n",
    "    lk_arr_3uK_arcmin.append(lk_3uK_arcmin)\n",
    "    lk_arr_5uK_arcmin.append(lk_5uK_arcmin)\n",
    "\n",
    "\n",
    "    del maps_clus\n",
    "    del maps_clus_01uK_arcmin\n",
    "    del maps_clus_025uK_arcmin\n",
    "    del maps_clus_05uK_arcmin\n",
    "    del maps_clus_1uK_arcmin\n",
    "    del maps_clus_2uK_arcmin\n",
    "    del maps_clus_3uK_arcmin\n",
    "    del maps_clus_5uK_arcmin\n",
    "\n",
    "    \n",
    "comb_lk_01uK_arcmin, mass_comb_lk_01uK_arcmin, error_comb_lk_01uK_arcmin = stats.combined_likelihood(mass_int_lk_01uK_arcmin, lk_arr_01uK_arcmin)      \n",
    "comb_lk_025uK_arcmin, mass_comb_lk_025uK_arcmin, error_comb_lk_025uK_arcmin = stats.combined_likelihood(mass_int_lk_025uK_arcmin, lk_arr_025uK_arcmin)     \n",
    "comb_lk_05uK_arcmin, mass_comb_lk_05uK_arcmin, error_comb_lk_05uK_arcmin = stats.combined_likelihood(mass_int_lk_05uK_arcmin, lk_arr_05uK_arcmin)    \n",
    "comb_lk_1uK_arcmin, mass_comb_lk_1uK_arcmin, error_comb_lk_1uK_arcmin = stats.combined_likelihood(mass_int_lk_1uK_arcmin, lk_arr_1uK_arcmin)    \n",
    "comb_lk_2uK_arcmin, mass_comb_lk_2uK_arcmin, error_comb_lk_2uK_arcmin = stats.combined_likelihood(mass_int_lk_2uK_arcmin, lk_arr_2uK_arcmin)    \n",
    "comb_lk_3uK_arcmin, mass_comb_lk_3uK_arcmin, error_comb_lk_3uK_arcmin = stats.combined_likelihood(mass_int_lk_3uK_arcmin, lk_arr_3uK_arcmin)    \n",
    "comb_lk_5uK_arcmin, mass_comb_lk_5uK_arcmin, error_comb_lk_5uK_arcmin = stats.combined_likelihood(mass_int_lk_5uK_arcmin, lk_arr_5uK_arcmin)    \n",
    "\n",
    "\n",
    "mass_arr = [mass_comb_lk_01uK_arcmin, mass_comb_lk_025uK_arcmin, mass_comb_lk_05uK_arcmin, mass_comb_lk_1uK_arcmin,\n",
    "           mass_comb_lk_2uK_arcmin, mass_comb_lk_3uK_arcmin, mass_comb_lk_5uK_arcmin]\n",
    "error_arr = [error_comb_lk_01uK_arcmin, error_comb_lk_025uK_arcmin, error_comb_lk_05uK_arcmin, error_comb_lk_1uK_arcmin,\n",
    "           error_comb_lk_2uK_arcmin, error_comb_lk_3uK_arcmin, error_comb_lk_5uK_arcmin]\n",
    "frac_mass_unc = [error_arr[i]/2 for i in range(len(noiseval_arr))]\n",
    "np.save('/Volumes/Extreme_SSD/codes/master_thesis/code/results/mass_results_estimator_comparison.npy', frac_mass_unc)"
   ]
  },
  {
   "cell_type": "code",
   "execution_count": null,
   "id": "acting-thesis",
   "metadata": {},
   "outputs": [],
   "source": [
    "frac_mass_unc = np.load('/Volumes/Extreme_SSD/codes/master_thesis/code/results/mass_results_estimator_comparison.npy')\n",
    "\n",
    "\n",
    "fig, ax = plt.subplots( figsize=(9,9))\n",
    "plt.axhline(2e-3)\n",
    "plt.grid(which = 'both')\n",
    "ax.set_xscale('log')\n",
    "ax.set_yscale('log')\n",
    "scal_fac = np.sqrt(75000./100000.)\n",
    "ax.plot(noiseval_arr, np.asarray(frac_mass_unc)*scal_fac,  color = color_arr[0], ls = '', marker = 'o')\n",
    "ax.set_xlabel(r'$\\Delta T_{\\rm white}\\ [\\mu K-arcmin]$', fontsize = sz_ft)\n",
    "ax.set_ylabel(r'$\\Delta M/M$', fontsize = sz_ft)\n",
    "ax.tick_params(labelsize = sz_lb)\n",
    "ax.legend(prop={'size': sz_lb}) \n",
    "ax.set_ylim(0.0005, 0.1)\n",
    "ax.set_xlim(0.05, 11)\n",
    "fig.savefig('/Volumes/Extreme_SSD/codes/master_thesis/code/figures/estimator_comparison.eps', bbox_inches = 'tight')"
   ]
  },
  {
   "cell_type": "markdown",
   "id": "textile-elimination",
   "metadata": {},
   "source": [
    "## Cluster Positions"
   ]
  },
  {
   "cell_type": "code",
   "execution_count": 187,
   "id": "third-support",
   "metadata": {},
   "outputs": [],
   "source": [
    "cluster = [2e14, cosmo.concentration_parameter(2e14, 0.7, 0.674), 0.7]\n",
    "centroid_shift_value = 0.5\n",
    "mass_int = np.arange(0, 4, 0.1)"
   ]
  },
  {
   "cell_type": "code",
   "execution_count": 188,
   "id": "standard-homeless",
   "metadata": {},
   "outputs": [
    {
     "name": "stderr",
     "output_type": "stream",
     "text": [
      "100%|██████████| 3000/3000 [53:51<00:00,  1.08s/it]\n",
      "100%|██████████| 40/40 [00:00<00:00, 136.88it/s]\n"
     ]
    }
   ],
   "source": [
    "model_profiles_centroid_shift = lensing_estimator.model_profiles(nber_clus, map_params, l, cl, mass_int, z, centroid_shift_value = centroid_shift_value, bl = bl, cl_noise = cl_noise_arr[4])\n",
    "np.save('/Volumes/Extreme_SSD/codes/master_thesis/code/results/model_profiles_centroid_shift.npy', model_profiles_centroid_shift)     "
   ]
  },
  {
   "cell_type": "code",
   "execution_count": 189,
   "id": "elect-creator",
   "metadata": {},
   "outputs": [
    {
     "name": "stderr",
     "output_type": "stream",
     "text": [
      "100%|██████████| 100/100 [3:43:00<00:00, 133.80s/it] \n"
     ]
    }
   ],
   "source": [
    "stack_bg = np.load('/Volumes/Extreme_SSD/codes/master_thesis/code/results/stack_bg_50000rand_2uK-arcmin.npy')   \n",
    "covariance_matrix = np.load('/Volumes/Extreme_SSD/codes/master_thesis/code/results/covariance_matrix_3000clus_2uK-arcmin.npy')  \n",
    "model_profiles_baseline =  np.load('/Volumes/Extreme_SSD/codes/master_thesis/code/results/model_profiles_2uK-arcmin.npy')    \n",
    "model_profiles_centroid_shift = np.load('/Volumes/Extreme_SSD/codes/master_thesis/code/results/model_profiles_centroid_shift.npy')     \n",
    "\n",
    "    \n",
    "lk_arr_baseline, mass_arr_baseline, error_arr_baseline = [], [], []    \n",
    "lk_arr_centroid_shift, mass_arr_centroid_shift, error_arr_centroid_shift = [], [], []\n",
    "lk_arr_centroid_shift_corrected, mass_arr_centroid_shift_corrected, error_arr_centroid_shift_corrected = [], [], []   \n",
    "for i in tqdm(range(nber_runs)):    \n",
    "    maps_clus_baseline, maps_clus_centroid_shift = sims.cmb_test_data(map_params, l, cl, cluster = cluster, centroid_shift_value = centroid_shift_value, bl = bl, nl = nl_arr[4], nber_obs = nber_clus, clus_positions = True)                                                                             \n",
    "    stack_clus_baseline = lensing_estimator.stack(map_params, maps_clus_baseline, l = l, cl = cl, cl_noise = cl_noise_arr[4])\n",
    "    stack_clus_centroid_shift = lensing_estimator.stack(map_params, maps_clus_centroid_shift, l = l, cl = cl, cl_noise = cl_noise_arr[4])\n",
    "    \n",
    "    bins_baseline, lensing_dipole_profile_baseline, stack_baseline = lensing_estimator.lensing_dipole(map_params, stack_clus_baseline, stack_bg)\n",
    "    bins_centroid_shift, lensing_dipole_profile_centroid_shift, stack_centroid_shift = lensing_estimator.lensing_dipole(map_params, stack_clus_centroid_shift, stack_bg)\n",
    "    \n",
    "    \n",
    "    data_baseline = bins_baseline, lensing_dipole_profile_baseline, covariance_matrix\n",
    "    data_centroid_shift = bins_centroid_shift, lensing_dipole_profile_centroid_shift, covariance_matrix\n",
    "\n",
    "    likelihood_baseline, mass_baseline, error_baseline = stats.run_ml(data_baseline, model_profiles_baseline, mass_int)\n",
    "    mass_int_lk_baseline, lk_baseline = likelihood_baseline\n",
    "    likelihood_centroid_shift, mass_centroid_shift, error_centroid_shift = stats.run_ml(data_centroid_shift, model_profiles_baseline, mass_int)\n",
    "    mass_int_lk_centroid_shift, lk_centroid_shift = likelihood_centroid_shift\n",
    "    likelihood_centroid_shift_corrected, mass_centroid_shift_corrected, error_centroid_shift_corrected = stats.run_ml(data_centroid_shift, model_profiles_centroid_shift, mass_int)\n",
    "    mass_int_lk_centroid_shift_corrected, lk_centroid_shift_corrected = likelihood_centroid_shift_corrected\n",
    "    \n",
    "    lk_arr_baseline.append(lk_baseline)\n",
    "    lk_arr_centroid_shift.append(lk_centroid_shift)\n",
    "    lk_arr_centroid_shift_corrected.append(lk_centroid_shift_corrected)\n",
    "    mass_arr_baseline.append(mass_baseline)\n",
    "    mass_arr_centroid_shift.append(mass_centroid_shift)\n",
    "    mass_arr_centroid_shift_corrected.append(mass_centroid_shift_corrected)\n",
    "    error_arr_baseline.append(error_baseline)\n",
    "    error_arr_centroid_shift.append(error_centroid_shift)\n",
    "    error_arr_centroid_shift_corrected.append(error_centroid_shift_corrected)\n",
    "         \n",
    "    del maps_clus_baseline\n",
    "    del maps_clus_centroid_shift\n",
    "\n",
    "\n",
    "\n",
    "mass_arr = [mass_arr_baseline, mass_arr_centroid_shift, mass_arr_centroid_shift_corrected]\n",
    "np.save('/Volumes/Extreme_SSD/codes/master_thesis/code/results/mass_arr_cluster_positions.npy', mass_arr)\n",
    "error_arr = [error_arr_baseline, error_arr_centroid_shift, error_arr_centroid_shift_corrected]\n",
    "np.save('/Volumes/Extreme_SSD/codes/master_thesis/code/results/error_arr_cluster_positions.npy', error_arr)\n",
    "\n",
    "    \n",
    "comb_lk_baseline, mass_comb_lk_baseline, error_comb_lk_baseline = stats.combined_likelihood(mass_int_lk_baseline, lk_arr_baseline)      \n",
    "comb_lk_centroid_shift, mass_comb_lk_centroid_shift, error_comb_lk_centroid_shift = stats.combined_likelihood(mass_int_lk_centroid_shift, lk_arr_centroid_shift)      \n",
    "comb_lk_centroid_shift_corrected, mass_comb_lk_centroid_shift_corrected, error_comb_lk_centroid_shift_corrected = stats.combined_likelihood(mass_int_lk_centroid_shift_corrected, lk_arr_centroid_shift_corrected)      \n",
    "mass_arr_comb_lk = [mass_comb_lk_baseline, mass_comb_lk_centroid_shift, mass_comb_lk_centroid_shift_corrected]\n",
    "np.save('/Volumes/Extreme_SSD/codes/master_thesis/code/results/mass_arr_comb_lk_cluster_positions.npy', mass_arr_comb_lk)\n",
    "error_arr_comb_lk = [error_comb_lk_baseline, error_comb_lk_centroid_shift, error_comb_lk_centroid_shift_corrected]\n",
    "np.save('/Volumes/Extreme_SSD/codes/master_thesis/code/results/error_arr_comb_lk_cluster_positions.npy', error_arr_comb_lk) \n",
    "\n",
    "\n",
    "bias = (mass_comb_lk_centroid_shift-2)/2\n",
    "inc_err_frac_centroid_shift = error_comb_lk_centroid_shift/error_comb_lk_baseline\n",
    "inc_err_frac_centroid_shift_corrected = error_comb_lk_centroid_shift_corrected/error_comb_lk_baseline\n",
    "result = \"{0:11.3f}\".format(bias)+'\\n'\n",
    "result+= \"{0:11.3f}\".format(inc_err_frac_centroid_shift)+'\\n'\n",
    "result+= \"{0:11.3f}\".format(inc_err_frac_centroid_shift_corrected)\n",
    "file = open('/Volumes/Extreme_SSD/codes/master_thesis/code/results/bias_result_cluster_positions.txt',\"w\")\n",
    "file.write(result)\n",
    "file.close() "
   ]
  },
  {
   "cell_type": "code",
   "execution_count": 291,
   "id": "manufactured-improvement",
   "metadata": {},
   "outputs": [
    {
     "data": {
      "text/plain": [
       "Text(0.5, 0, '$M_{\\\\rm lens}-M_{\\\\rm true}$')"
      ]
     },
     "execution_count": 291,
     "metadata": {},
     "output_type": "execute_result"
    },
    {
     "data": {
      "image/png": "[encoded data removed]",
      "text/plain": [
       "<Figure size 504x360 with 1 Axes>"
      ]
     },
     "metadata": {
      "needs_background": "light"
     },
     "output_type": "display_data"
    }
   ],
   "source": [
    "with open('/Volumes/Extreme_SSD/codes/master_thesis/code/results/mass_arr_cluster_positions.npy', 'rb') as file:\n",
    "    mass_arr = np.load(file) \n",
    "    \n",
    "with open('/Volumes/Extreme_SSD/codes/master_thesis/code/results/error_arr_cluster_positions.npy', 'rb') as file:\n",
    "    error_arr = np.load(file) \n",
    "    \n",
    "with open('/Volumes/Extreme_SSD/codes/master_thesis/code/results/mass_arr_comb_lk_cluster_positions.npy', 'rb') as file:\n",
    "    mass_arr_comb_lk = np.load(file) \n",
    "    \n",
    "with open('/Volumes/Extreme_SSD/codes/master_thesis/code/results/error_arr_comb_lk_cluster_positions.npy', 'rb') as file:\n",
    "    error_arr_comb_lk = np.load(file) \n",
    "\n",
    "fig, ax = plt.subplots(figsize=(7,5))\n",
    "centers_baseline = np.asarray(mass_arr[0])-2\n",
    "centers_centroid_shift = np.asarray(mass_arr[1])-2\n",
    "centers_centroid_shift_corrected = np.asarray(mass_arr[2])-2\n",
    "centers = [centers_baseline, centers_centroid_shift, centers_centroid_shift_corrected]\n",
    "width_arr = [error_arr[0], error_arr[1], error_arr[2]]\n",
    "for cntr, (center, widthval, colorval) in enumerate(zip(centers, width_arr, color_arr )):\n",
    "    yval = [cntr for i in range(len(center))]\n",
    "   # plt.errorbar(center, yval, xerr = widthval, color = colorval, marker = 'o', ls = '', alpha = 0.02)\n",
    "    plt.plot(center, yval, color = colorval, marker = 'o', ls = '', alpha = 0.05)\n",
    "plt.errorbar(mass_arr_comb_lk[0]-2, 0, xerr = error_arr_comb_lk[0], color = color_arr[0],  marker = 'o', ls = '')\n",
    "plt.errorbar(mass_arr_comb_lk[1]-2, 1, xerr = error_arr_comb_lk[1], color = color_arr[1], marker = 'o', ls = '')\n",
    "plt.errorbar(mass_arr_comb_lk[2]-2, 2, xerr = error_arr_comb_lk[2], color = color_arr[2], marker = 'o', ls = '')\n",
    "plt.axvline(0, color = 'green', ls = '--')\n",
    "ax.spines['left'].set_visible(False)\n",
    "ax.spines['right'].set_visible(False)\n",
    "ax.spines['top'].set_visible(False)\n",
    "ax.axes.yaxis.set_ticks([])\n",
    "plt.text(1.6, 0, 'baseline', fontsize = sz_ft)\n",
    "plt.text(1.6, 1, '+ 0.5\\' shift', fontsize = sz_ft)\n",
    "plt.text(1.6, 2, 'corrected', fontsize = sz_ft)\n",
    "plt.xlabel(r'$M_{\\rm lens}-M_{\\rm true}$', fontsize = sz_ft)\n",
    "plt.savefig('/Volumes/Extreme_SSD/codes/master_thesis/code/figures/cluster_positions.svg', dpi = 200., bbox_inches = 'tight', pad_inches = 0.1)"
   ]
  },
  {
   "cell_type": "markdown",
   "id": "north-chemical",
   "metadata": {},
   "source": [
    "## Foreground Bias"
   ]
  },
  {
   "cell_type": "code",
   "execution_count": 292,
   "id": "unnecessary-conclusion",
   "metadata": {},
   "outputs": [
    {
     "name": "stdout",
     "output_type": "stream",
     "text": [
      "3.751849332385977\n",
      "3.0254530417561614\n"
     ]
    }
   ],
   "source": [
    "c500 = concentration.concentration(2e14, '500c', 0.7)\n",
    "M200c, _, c200c1 = mass_defs.changeMassDefinition(2e14, c500, 0.7, '500c', '200c', profile='nfw')\n",
    "c200c2 = cosmo.concentration_parameter(M200c, 0.7, 0.674)\n",
    "print(c200c1)\n",
    "print(c200c2)"
   ]
  },
  {
   "cell_type": "code",
   "execution_count": 293,
   "id": "artificial-operation",
   "metadata": {},
   "outputs": [],
   "source": [
    "c500 = concentration.concentration(2e14, '500c', 0.7)\n",
    "M200c, _, _ = mass_defs.changeMassDefinition(2e14, c500, 0.7, '500c', '200c', profile='nfw')\n",
    "cluster = [M200c, cosmo.concentration_parameter(M200c, 0.7, 0.674), 0.7] \n",
    "fname = '/Volumes/Extreme_SSD/codes/master_thesis/code/data/mdpl2_cutouts_for_tszksz_clus_detection_M1.7e+14to2.3e+14_z0.6to0.8_15320haloes_boxsize20.0am.npz'\n",
    "cutouts_dic = np.load(fname, allow_pickle = 1, encoding= 'latin1')['arr_0'].item()\n",
    "mass_z_key = list(cutouts_dic.keys())[0]\n",
    "cutouts = cutouts_dic[mass_z_key]\n",
    "scale_fac = fg.compton_y_to_delta_Tcmb(freq = 150, uK = True)\n",
    "tsz_cutouts, ksz_cutouts, tsz_ksz_cutouts = [], [], []\n",
    "for kcntr, keyname in enumerate( cutouts ):\n",
    "    tsz_cutout = cutouts[keyname]['y']*scale_fac\n",
    "    tsz_cutouts.append(tsz_cutout)\n",
    "    ksz_cutout = cutouts[keyname]['ksz']*random.randrange(-1, 2, 2)\n",
    "    ksz_cutouts.append(ksz_cutout)\n",
    "    tsz_ksz_cutout = tsz_cutout + ksz_cutout\n",
    "    tsz_ksz_cutouts.append(tsz_ksz_cutout) \n",
    "mass_int = np.arange(0, 4, 0.1) "
   ]
  },
  {
   "cell_type": "code",
   "execution_count": 294,
   "id": "exciting-lincoln",
   "metadata": {},
   "outputs": [
    {
     "name": "stderr",
     "output_type": "stream",
     "text": [
      "  0%|          | 0/1000 [04:31<?, ?it/s]\n"
     ]
    },
    {
     "ename": "KeyboardInterrupt",
     "evalue": "",
     "output_type": "error",
     "traceback": [
      "\u001b[0;31m---------------------------------------------------------------------------\u001b[0m",
      "\u001b[0;31mKeyboardInterrupt\u001b[0m                         Traceback (most recent call last)",
      "\u001b[0;32m<ipython-input-294-98ed106a4056>\u001b[0m in \u001b[0;36m<module>\u001b[0;34m\u001b[0m\n\u001b[0;32m----> 1\u001b[0;31m \u001b[0mcovariance_matrix_tsz\u001b[0m\u001b[0;34m,\u001b[0m \u001b[0m_\u001b[0m \u001b[0;34m=\u001b[0m \u001b[0mlensing_estimator\u001b[0m\u001b[0;34m.\u001b[0m\u001b[0mcovariance_and_correlation_matrix\u001b[0m\u001b[0;34m(\u001b[0m\u001b[0mnber_cov\u001b[0m\u001b[0;34m,\u001b[0m \u001b[0mnber_clus\u001b[0m\u001b[0;34m,\u001b[0m \u001b[0mmap_params\u001b[0m\u001b[0;34m,\u001b[0m \u001b[0ml\u001b[0m\u001b[0;34m,\u001b[0m \u001b[0mcl\u001b[0m\u001b[0;34m,\u001b[0m \u001b[0mcluster_corr_cutouts\u001b[0m \u001b[0;34m=\u001b[0m  \u001b[0mtsz_cutouts\u001b[0m\u001b[0;34m,\u001b[0m \u001b[0mbl\u001b[0m \u001b[0;34m=\u001b[0m \u001b[0mbl\u001b[0m\u001b[0;34m,\u001b[0m \u001b[0mnl\u001b[0m \u001b[0;34m=\u001b[0m \u001b[0mnl_arr\u001b[0m\u001b[0;34m[\u001b[0m\u001b[0;36m4\u001b[0m\u001b[0;34m]\u001b[0m\u001b[0;34m,\u001b[0m \u001b[0mcl_noise\u001b[0m \u001b[0;34m=\u001b[0m \u001b[0mcl_noise_arr\u001b[0m\u001b[0;34m[\u001b[0m\u001b[0;36m4\u001b[0m\u001b[0;34m]\u001b[0m\u001b[0;34m,\u001b[0m \u001b[0mcorrect_for_tsz\u001b[0m \u001b[0;34m=\u001b[0m \u001b[0;32mFalse\u001b[0m\u001b[0;34m)\u001b[0m\u001b[0;34m\u001b[0m\u001b[0;34m\u001b[0m\u001b[0m\n\u001b[0m\u001b[1;32m      2\u001b[0m \u001b[0mnp\u001b[0m\u001b[0;34m.\u001b[0m\u001b[0msave\u001b[0m\u001b[0;34m(\u001b[0m\u001b[0;34m'/Volumes/Extreme_SSD/codes/master_thesis/code/results/covariance_matrix_tsz.npy'\u001b[0m\u001b[0;34m,\u001b[0m \u001b[0mcovariance_matrix_tsz\u001b[0m\u001b[0;34m)\u001b[0m\u001b[0;34m\u001b[0m\u001b[0;34m\u001b[0m\u001b[0m\n\u001b[1;32m      3\u001b[0m \u001b[0;34m\u001b[0m\u001b[0m\n\u001b[1;32m      4\u001b[0m \u001b[0mcovariance_matrix_tsz_corrected\u001b[0m\u001b[0;34m,\u001b[0m \u001b[0m_\u001b[0m \u001b[0;34m=\u001b[0m \u001b[0mlensing_estimator\u001b[0m\u001b[0;34m.\u001b[0m\u001b[0mcovariance_and_correlation_matrix\u001b[0m\u001b[0;34m(\u001b[0m\u001b[0mnber_cov\u001b[0m\u001b[0;34m,\u001b[0m \u001b[0mnber_clus\u001b[0m\u001b[0;34m,\u001b[0m \u001b[0mmap_params\u001b[0m\u001b[0;34m,\u001b[0m \u001b[0ml\u001b[0m\u001b[0;34m,\u001b[0m \u001b[0mcl\u001b[0m\u001b[0;34m,\u001b[0m \u001b[0mcluster_corr_cutouts\u001b[0m \u001b[0;34m=\u001b[0m  \u001b[0mtsz_cutouts\u001b[0m\u001b[0;34m,\u001b[0m \u001b[0mbl\u001b[0m \u001b[0;34m=\u001b[0m \u001b[0mbl\u001b[0m\u001b[0;34m,\u001b[0m \u001b[0mnl\u001b[0m \u001b[0;34m=\u001b[0m \u001b[0mnl_arr\u001b[0m\u001b[0;34m[\u001b[0m\u001b[0;36m4\u001b[0m\u001b[0;34m]\u001b[0m\u001b[0;34m,\u001b[0m \u001b[0mcl_noise\u001b[0m \u001b[0;34m=\u001b[0m \u001b[0mcl_noise_arr\u001b[0m\u001b[0;34m[\u001b[0m\u001b[0;36m4\u001b[0m\u001b[0;34m]\u001b[0m\u001b[0;34m,\u001b[0m \u001b[0mcorrect_for_tsz\u001b[0m \u001b[0;34m=\u001b[0m \u001b[0;32mTrue\u001b[0m\u001b[0;34m)\u001b[0m\u001b[0;34m\u001b[0m\u001b[0;34m\u001b[0m\u001b[0m\n\u001b[1;32m      5\u001b[0m \u001b[0mnp\u001b[0m\u001b[0;34m.\u001b[0m\u001b[0msave\u001b[0m\u001b[0;34m(\u001b[0m\u001b[0;34m'/Volumes/Extreme_SSD/codes/master_thesis/code/results/covariance_matrix_tsz_corrected.npy'\u001b[0m\u001b[0;34m,\u001b[0m \u001b[0mcovariance_matrix_tsz_corrected\u001b[0m\u001b[0;34m)\u001b[0m\u001b[0;34m\u001b[0m\u001b[0;34m\u001b[0m\u001b[0m\n",
      "\u001b[0;32m/Volumes/Extreme_SSD/codes/master_thesis/code/lensing_estimator.py\u001b[0m in \u001b[0;36mcovariance_and_correlation_matrix\u001b[0;34m(nber_cov, nber_clus, map_params, l, cl, freq_arr, cluster_corr_cutouts, cl_extragal, bl, nl, opbeam, experiment, components, cutout_size_am, l_cut, cl_noise, use_magnitude_weights, noise_weights, correct_for_tsz)\u001b[0m\n\u001b[1;32m    115\u001b[0m \u001b[0;34m\u001b[0m\u001b[0m\n\u001b[1;32m    116\u001b[0m         \u001b[0;32mif\u001b[0m \u001b[0mexperiment\u001b[0m \u001b[0;32mis\u001b[0m \u001b[0;32mNone\u001b[0m\u001b[0;34m:\u001b[0m\u001b[0;34m\u001b[0m\u001b[0;34m\u001b[0m\u001b[0m\n\u001b[0;32m--> 117\u001b[0;31m             maps_clus = sims.cmb_mock_data(map_params, l, cl, cluster_corr_cutouts = cluster_corr_cutouts,\n\u001b[0m\u001b[1;32m    118\u001b[0m                                            cl_extragal = cl_extragal, bl = bl, nl = nl, nber_obs = nber_clus)\n\u001b[1;32m    119\u001b[0m         \u001b[0;32melse\u001b[0m\u001b[0;34m:\u001b[0m\u001b[0;34m\u001b[0m\u001b[0;34m\u001b[0m\u001b[0m\n",
      "\u001b[0;32m/Volumes/Extreme_SSD/codes/master_thesis/code/sims.py\u001b[0m in \u001b[0;36mcmb_mock_data\u001b[0;34m(map_params, l, cl, cluster, centroid_shift_value, nber_ch, cluster_corr_cutouts, cl_extragal, bl, nl, nber_obs)\u001b[0m\n\u001b[1;32m     66\u001b[0m                 \u001b[0mnl\u001b[0m \u001b[0;34m=\u001b[0m \u001b[0;34m[\u001b[0m\u001b[0mnl\u001b[0m\u001b[0;34m]\u001b[0m\u001b[0;34m\u001b[0m\u001b[0;34m\u001b[0m\u001b[0m\n\u001b[1;32m     67\u001b[0m             \u001b[0;32mfor\u001b[0m \u001b[0mj\u001b[0m \u001b[0;32min\u001b[0m \u001b[0mrange\u001b[0m\u001b[0;34m(\u001b[0m\u001b[0mnber_ch\u001b[0m\u001b[0;34m)\u001b[0m\u001b[0;34m:\u001b[0m\u001b[0;34m\u001b[0m\u001b[0;34m\u001b[0m\u001b[0m\n\u001b[0;32m---> 68\u001b[0;31m                 \u001b[0mnoise_map\u001b[0m \u001b[0;34m=\u001b[0m \u001b[0mtools\u001b[0m\u001b[0;34m.\u001b[0m\u001b[0mmake_gaussian_realization\u001b[0m\u001b[0;34m(\u001b[0m\u001b[0mmap_params\u001b[0m\u001b[0;34m,\u001b[0m \u001b[0ml\u001b[0m\u001b[0;34m,\u001b[0m \u001b[0mnl\u001b[0m\u001b[0;34m[\u001b[0m\u001b[0mj\u001b[0m\u001b[0;34m]\u001b[0m\u001b[0;34m)\u001b[0m\u001b[0;34m\u001b[0m\u001b[0;34m\u001b[0m\u001b[0m\n\u001b[0m\u001b[1;32m     69\u001b[0m                 \u001b[0msims_ch_arr\u001b[0m\u001b[0;34m[\u001b[0m\u001b[0mj\u001b[0m\u001b[0;34m]\u001b[0m \u001b[0;34m+=\u001b[0m \u001b[0mnoise_map\u001b[0m\u001b[0;34m\u001b[0m\u001b[0;34m\u001b[0m\u001b[0m\n\u001b[1;32m     70\u001b[0m \u001b[0;34m\u001b[0m\u001b[0m\n",
      "\u001b[0;32m/Volumes/Extreme_SSD/codes/master_thesis/code/tools.py\u001b[0m in \u001b[0;36mmake_gaussian_realization\u001b[0;34m(map_params, l, psd)\u001b[0m\n\u001b[1;32m    137\u001b[0m     \u001b[0mgauss_realizations_arr\u001b[0m \u001b[0;34m=\u001b[0m \u001b[0;34m[\u001b[0m\u001b[0;34m]\u001b[0m\u001b[0;34m\u001b[0m\u001b[0;34m\u001b[0m\u001b[0m\n\u001b[1;32m    138\u001b[0m     \u001b[0;32mfor\u001b[0m \u001b[0mpower_spectrum\u001b[0m \u001b[0;32min\u001b[0m \u001b[0mpsd\u001b[0m\u001b[0;34m:\u001b[0m\u001b[0;34m\u001b[0m\u001b[0;34m\u001b[0m\u001b[0m\n\u001b[0;32m--> 139\u001b[0;31m         \u001b[0mgauss_realization\u001b[0m \u001b[0;34m=\u001b[0m \u001b[0mconvolve\u001b[0m\u001b[0;34m(\u001b[0m\u001b[0mgauss_map\u001b[0m\u001b[0;34m,\u001b[0m \u001b[0ml\u001b[0m\u001b[0;34m,\u001b[0m \u001b[0mnp\u001b[0m\u001b[0;34m.\u001b[0m\u001b[0msqrt\u001b[0m\u001b[0;34m(\u001b[0m\u001b[0mpower_spectrum\u001b[0m\u001b[0;34m)\u001b[0m\u001b[0;34m,\u001b[0m \u001b[0mmap_params\u001b[0m \u001b[0;34m=\u001b[0m \u001b[0mmap_params\u001b[0m\u001b[0;34m)\u001b[0m\u001b[0;34m\u001b[0m\u001b[0;34m\u001b[0m\u001b[0m\n\u001b[0m\u001b[1;32m    140\u001b[0m         \u001b[0mgauss_realization\u001b[0m \u001b[0;34m-=\u001b[0m \u001b[0mnp\u001b[0m\u001b[0;34m.\u001b[0m\u001b[0mmean\u001b[0m\u001b[0;34m(\u001b[0m\u001b[0mgauss_realization\u001b[0m\u001b[0;34m)\u001b[0m\u001b[0;34m\u001b[0m\u001b[0;34m\u001b[0m\u001b[0m\n\u001b[1;32m    141\u001b[0m         \u001b[0mgauss_realizations_arr\u001b[0m\u001b[0;34m.\u001b[0m\u001b[0mappend\u001b[0m\u001b[0;34m(\u001b[0m\u001b[0mgauss_realization\u001b[0m\u001b[0;34m)\u001b[0m\u001b[0;34m\u001b[0m\u001b[0;34m\u001b[0m\u001b[0m\n",
      "\u001b[0;32m/Volumes/Extreme_SSD/codes/master_thesis/code/tools.py\u001b[0m in \u001b[0;36mconvolve\u001b[0;34m(signal, l, kernel, map_params)\u001b[0m\n\u001b[1;32m     47\u001b[0m     \u001b[0;32mif\u001b[0m \u001b[0mmap_params\u001b[0m \u001b[0;32mis\u001b[0m \u001b[0;32mnot\u001b[0m \u001b[0;32mNone\u001b[0m\u001b[0;34m:\u001b[0m\u001b[0;34m\u001b[0m\u001b[0;34m\u001b[0m\u001b[0m\n\u001b[1;32m     48\u001b[0m         \u001b[0mgrid\u001b[0m\u001b[0;34m,\u001b[0m \u001b[0m_\u001b[0m \u001b[0;34m=\u001b[0m \u001b[0mmake_grid\u001b[0m\u001b[0;34m(\u001b[0m\u001b[0mmap_params\u001b[0m\u001b[0;34m,\u001b[0m \u001b[0mFourier\u001b[0m \u001b[0;34m=\u001b[0m \u001b[0;32mTrue\u001b[0m\u001b[0;34m)\u001b[0m\u001b[0;34m\u001b[0m\u001b[0;34m\u001b[0m\u001b[0m\n\u001b[0;32m---> 49\u001b[0;31m         \u001b[0mkernel\u001b[0m \u001b[0;34m=\u001b[0m \u001b[0mconvert_to_2d\u001b[0m\u001b[0;34m(\u001b[0m\u001b[0mgrid\u001b[0m\u001b[0;34m,\u001b[0m \u001b[0ml\u001b[0m\u001b[0;34m,\u001b[0m \u001b[0mkernel\u001b[0m\u001b[0;34m)\u001b[0m\u001b[0;34m\u001b[0m\u001b[0;34m\u001b[0m\u001b[0m\n\u001b[0m\u001b[1;32m     50\u001b[0m         \u001b[0mkernel\u001b[0m\u001b[0;34m[\u001b[0m\u001b[0mnp\u001b[0m\u001b[0;34m.\u001b[0m\u001b[0misnan\u001b[0m\u001b[0;34m(\u001b[0m\u001b[0mkernel\u001b[0m\u001b[0;34m)\u001b[0m\u001b[0;34m]\u001b[0m \u001b[0;34m=\u001b[0m \u001b[0;36m0\u001b[0m\u001b[0;34m\u001b[0m\u001b[0;34m\u001b[0m\u001b[0m\n\u001b[1;32m     51\u001b[0m     \u001b[0msignal_convolved\u001b[0m \u001b[0;34m=\u001b[0m \u001b[0mnp\u001b[0m\u001b[0;34m.\u001b[0m\u001b[0mfft\u001b[0m\u001b[0;34m.\u001b[0m\u001b[0mifft2\u001b[0m\u001b[0;34m(\u001b[0m\u001b[0mkernel\u001b[0m\u001b[0;34m*\u001b[0m\u001b[0msignal_fft\u001b[0m\u001b[0;34m)\u001b[0m\u001b[0;34m.\u001b[0m\u001b[0mreal\u001b[0m\u001b[0;34m\u001b[0m\u001b[0;34m\u001b[0m\u001b[0m\n",
      "\u001b[0;32m/Volumes/Extreme_SSD/codes/master_thesis/code/tools.py\u001b[0m in \u001b[0;36mconvert_to_2d\u001b[0;34m(grid, x, signal_1d)\u001b[0m\n\u001b[1;32m     36\u001b[0m \u001b[0;34m\u001b[0m\u001b[0m\n\u001b[1;32m     37\u001b[0m     \u001b[0mX\u001b[0m\u001b[0;34m,\u001b[0m \u001b[0mY\u001b[0m \u001b[0;34m=\u001b[0m \u001b[0mgrid\u001b[0m\u001b[0;34m[\u001b[0m\u001b[0;36m0\u001b[0m\u001b[0;34m]\u001b[0m\u001b[0;34m,\u001b[0m \u001b[0mgrid\u001b[0m\u001b[0;34m[\u001b[0m\u001b[0;36m1\u001b[0m\u001b[0;34m]\u001b[0m\u001b[0;34m\u001b[0m\u001b[0;34m\u001b[0m\u001b[0m\n\u001b[0;32m---> 38\u001b[0;31m     \u001b[0mR\u001b[0m \u001b[0;34m=\u001b[0m \u001b[0mnp\u001b[0m\u001b[0;34m.\u001b[0m\u001b[0mhypot\u001b[0m\u001b[0;34m(\u001b[0m\u001b[0mX\u001b[0m\u001b[0;34m,\u001b[0m \u001b[0mY\u001b[0m\u001b[0;34m)\u001b[0m\u001b[0;34m\u001b[0m\u001b[0;34m\u001b[0m\u001b[0m\n\u001b[0m\u001b[1;32m     39\u001b[0m     \u001b[0msignal_2d\u001b[0m \u001b[0;34m=\u001b[0m \u001b[0mnp\u001b[0m\u001b[0;34m.\u001b[0m\u001b[0minterp\u001b[0m\u001b[0;34m(\u001b[0m\u001b[0mR\u001b[0m\u001b[0;34m.\u001b[0m\u001b[0mflatten\u001b[0m\u001b[0;34m(\u001b[0m\u001b[0;34m)\u001b[0m\u001b[0;34m,\u001b[0m \u001b[0mx\u001b[0m\u001b[0;34m,\u001b[0m \u001b[0msignal_1d\u001b[0m\u001b[0;34m,\u001b[0m \u001b[0mright\u001b[0m \u001b[0;34m=\u001b[0m \u001b[0;36m0.\u001b[0m\u001b[0;34m)\u001b[0m\u001b[0;34m.\u001b[0m\u001b[0mreshape\u001b[0m\u001b[0;34m(\u001b[0m\u001b[0mR\u001b[0m\u001b[0;34m.\u001b[0m\u001b[0mshape\u001b[0m\u001b[0;34m)\u001b[0m\u001b[0;34m\u001b[0m\u001b[0;34m\u001b[0m\u001b[0m\n\u001b[1;32m     40\u001b[0m \u001b[0;34m\u001b[0m\u001b[0m\n",
      "\u001b[0;31mKeyboardInterrupt\u001b[0m: "
     ]
    }
   ],
   "source": [
    "covariance_matrix_tsz, _ = lensing_estimator.covariance_and_correlation_matrix(nber_cov, nber_clus, map_params, l, cl, cluster_corr_cutouts =  tsz_cutouts, bl = bl, nl = nl_arr[4], cl_noise = cl_noise_arr[4], correct_for_tsz = False)\n",
    "np.save('/Volumes/Extreme_SSD/codes/master_thesis/code/results/covariance_matrix_tsz.npy', covariance_matrix_tsz)\n",
    "    \n",
    "covariance_matrix_tsz_corrected, _ = lensing_estimator.covariance_and_correlation_matrix(nber_cov, nber_clus, map_params, l, cl, cluster_corr_cutouts =  tsz_cutouts, bl = bl, nl = nl_arr[4], cl_noise = cl_noise_arr[4], correct_for_tsz = True)\n",
    "np.save('/Volumes/Extreme_SSD/codes/master_thesis/code/results/covariance_matrix_tsz_corrected.npy', covariance_matrix_tsz_corrected)\n",
    "\n",
    "covariance_matrix_ksz, _ = lensing_estimator.covariance_and_correlation_matrix(nber_cov, nber_clus, map_params, l, cl, cluster_corr_cutouts =  ksz_cutouts, bl = bl, nl = nl_arr[4], cl_noise = cl_noise_arr[4], correct_for_tsz = False)\n",
    "np.save('/Volumes/Extreme_SSD/codes/master_thesis/code/results/covariance_matrix_ksz.npy', covariance_matrix_ksz)\n",
    "    \n",
    "covariance_matrix_tsz_ksz, _ = lensing_estimator.covariance_and_correlation_matrix(nber_cov, nber_clus, map_params, l, cl, cluster_corr_cutouts =  tsz_ksz_cutouts, bl = bl, nl = nl_arr[4], cl_noise = cl_noise_arr[4], correct_for_tsz = False)\n",
    "np.save('/Volumes/Extreme_SSD/codes/master_thesis/code/results/covariance_matrix_tsz_ksz.npy', covariance_matrix_tsz_ksz)\n",
    "    \n",
    "covariance_matrix_tsz_ksz_corrected, _ = lensing_estimator.covariance_and_correlation_matrix(nber_cov, nber_clus, map_params, l, cl, cluster_corr_cutouts =  tsz_ksz_cutouts, bl = bl, nl = nl_arr[4], cl_noise = cl_noise_arr[4], correct_for_tsz = True)\n",
    "np.save('/Volumes/Extreme_SSD/codes/master_thesis/code/results/covariance_matrix_tsz_ksz_corrected.npy', covariance_matrix_tsz_ksz_corrected)    "
   ]
  },
  {
   "cell_type": "code",
   "execution_count": null,
   "id": "specified-substitute",
   "metadata": {},
   "outputs": [],
   "source": [
    "stack_bg = np.load('/Volumes/Extreme_SSD/codes/master_thesis/code/results/stack_bg_50000rand_2uK-arcmin.npy')   \n",
    "covariance_matrix_baseline = np.load('/Volumes/Extreme_SSD/codes/master_thesis/code/results/covariance_matrix_3000clus_2uK-arcmin.npy')  \n",
    "covariance_matrix_tsz = np.load('/Volumes/Extreme_SSD/codes/master_thesis/code/results/covariance_matrix_tsz.npy')  \n",
    "covariance_matrix_tsz_corrected = np.load('/Volumes/Extreme_SSD/codes/master_thesis/code/results/covariance_matrix_tsz_corrected.npy')\n",
    "covariance_matrix_ksz = np.load('/Volumes/Extreme_SSD/codes/master_thesis/code/results/covariance_matrix_ksz.npy')\n",
    "covariance_matrix_tsz_ksz = np.load('/Volumes/Extreme_SSD/codes/master_thesis/code/results/covariance_matrix_tsz_ksz.npy')\n",
    "covariance_matrix_tsz_ksz_corrected = np.load('/Volumes/Extreme_SSD/codes/master_thesis/code/results/covariance_matrix_tsz_ksz_corrected.npy')\n",
    "model_profiles =  np.load('/Volumes/Extreme_SSD/codes/master_thesis/code/results/model_profiles_2uK-arcmin.npy')    \n",
    "\n",
    "\n",
    "\n",
    "\n",
    "lk_arr_baseline, mass_arr_baseline, error_arr_baseline = [], [], []      \n",
    "lk_arr_tsz, mass_arr_tsz, error_arr_tsz = [], [], []      \n",
    "lk_arr_ksz, mass_arr_ksz, error_arr_ksz = [], [], []  \n",
    "lk_arr_tsz_ksz, mass_arr_tsz_ksz, error_arr_tsz_ksz = [], [], []\n",
    "lk_arr_tsz_corrected, mass_arr_tsz_corrected, error_arr_tsz_corrected = [], [], []\n",
    "lk_arr_tsz_ksz_corrected, mass_arr_tsz_ksz_corrected, error_arr_tsz_ksz_corrected = [], [], []\n",
    "for i in tqdm(range(nber_runs)):    \n",
    "    maps_clus_baseline, maps_clus_tsz, maps_clus_ksz, maps_clus_tsz_ksz = sims.cmb_test_data(map_params, l, cl, cluster = cluster, bl = bl, nl = nl_arr[4], nber_obs = nber_clus, foreground_bias = True)\n",
    "    \n",
    "    stack_clus_baseline = lensing_estimator.stack(map_params, maps_clus_baseline, l = l, cl = cl, cl_noise = cl_noise_arr[4])\n",
    "    stack_clus_tsz, stack_tsz = lensing_estimator.stack(map_params, maps_clus_tsz, l = l, cl = cl, cl_noise = cl_noise_arr[4], correct_for_tsz = True)\n",
    "    stack_clus_ksz = lensing_estimator.stack(map_params, maps_clus_ksz, l = l, cl = cl, cl_noise = cl_noise_arr[4])\n",
    "    stack_clus_tsz_ksz, stack_tsz_ksz = lensing_estimator.stack(map_params, maps_clus_tsz_ksz, l = l, cl = cl, cl_noise = cl_noise_arr[4], correct_for_tsz = True)\n",
    "    \n",
    "    \n",
    "    bins_baseline, lensing_dipole_profile_baseline, stack_dipole_baseline = lensing_estimator.lensing_dipole(map_params, stack_clus_baseline, stack_bg)\n",
    "    bins_tsz, lensing_dipole_profile_tsz, stack_dipole_tsz = lensing_estimator.lensing_dipole(map_params, stack_clus_tsz, stack_bg)\n",
    "    bins_tsz_corrected, lensing_dipole_profile_tsz_corrected, stack_dipole_tsz_corrected = lensing_estimator.lensing_dipole(map_params, stack_clus_tsz, stack_bg, stack_tsz = stack_tsz)\n",
    "    bins_ksz, lensing_dipole_profile_ksz, stack_dipole_ksz = lensing_estimator.lensing_dipole(map_params, stack_clus_ksz, stack_bg)\n",
    "    bins_tsz_ksz, lensing_dipole_profile_tsz_ksz, stack_dipole_tsz_ksz = lensing_estimator.lensing_dipole(map_params, stack_clus_tsz_ksz, stack_bg)\n",
    "    bins_tsz_ksz_corrected, lensing_dipole_profile_tsz_ksz_corrected, stack_dipole_tsz_ksz_corrected = lensing_estimator.lensing_dipole(map_params, stack_clus_tsz_ksz, stack_bg, stack_tsz = stack_tsz_ksz)\n",
    "    \n",
    "    \n",
    "    data_baseline = bins_baseline, lensing_dipole_profile_baseline, covariance_matrix_baseline\n",
    "    data_tsz = bins_tsz, lensing_dipole_profile_tsz, covariance_matrix_tsz\n",
    "    data_tsz_corrected = bins_tsz_corrected, lensing_dipole_profile_tsz_corrected, covariance_matrix_tsz_corrected\n",
    "    data_ksz = bins_ksz, lensing_dipole_profile_ksz, covariance_matrix_ksz\n",
    "    data_tsz_ksz = bins_tsz_ksz, lensing_dipole_profile_tsz_ksz, covariance_matrix_tsz_ksz\n",
    "    data_tsz_ksz_corrected = bins_tsz_ksz_corrected, lensing_dipole_profile_tsz_ksz_corrected, covariance_matrix_tsz_ksz_corrected\n",
    "\n",
    "    \n",
    "    likelihood_baseline, mass_baseline, error_baseline = stats.run_ml(data_baseline, model_profiles, mass_int)\n",
    "    mass_int_lk_baseline, lk_baseline = likelihood_baseline\n",
    "    likelihood_tsz, mass_tsz, error_tsz = stats.run_ml(data_tsz, model_profiles, mass_int)\n",
    "    mass_int_lk_tsz, lk_tsz = likelihood_tsz\n",
    "    likelihood_tsz_corrected, mass_tsz_corrected, error_tsz_corrected = stats.run_ml(data_tsz_corrected, model_profiles, mass_int)\n",
    "    mass_int_lk_tsz_corrected, lk_tsz_corrected = likelihood_tsz_corrected    \n",
    "    likelihood_ksz, mass_ksz, error_ksz = stats.run_ml(data_ksz, model_profiles, mass_int)\n",
    "    mass_int_lk_ksz, lk_ksz = likelihood_ksz\n",
    "    likelihood_tsz_ksz, mass_tsz_ksz, error_tsz_ksz = stats.run_ml(data_tsz_ksz, model_profiles, mass_int)\n",
    "    mass_int_lk_tsz_ksz, lk_tsz_ksz = likelihood_tsz_ksz\n",
    "    likelihood_tsz_ksz_corrected, mass_tsz_ksz_corrected, error_tsz_ksz_corrected = stats.run_ml(data_tsz_ksz_corrected, model_profiles, mass_int)\n",
    "    mass_int_lk_tsz_ksz_corrected, lk_tsz_ksz_corrected = likelihood_tsz_ksz_corrected\n",
    "    \n",
    "    \n",
    "    lk_arr_baseline.append(lk_baseline)\n",
    "    lk_arr_tsz.append(lk_tsz)\n",
    "    lk_arr_tsz_corrected.append(lk_tsz_corrected)\n",
    "    lk_arr_ksz.append(lk_ksz)\n",
    "    lk_arr_tsz_ksz.append(lk_tsz_ksz)\n",
    "    lk_arr_tsz_ksz_corrected.append(lk_tsz_ksz_corrected)\n",
    "    \n",
    "    mass_arr_baseline.append(mass_baseline)\n",
    "    mass_arr_tsz.append(mass_tsz)\n",
    "    mass_arr_tsz_corrected.append(mass_tsz_corrected)\n",
    "    mass_arr_ksz.append(mass_ksz)\n",
    "    mass_arr_tsz_ksz.append(mass_tsz_ksz)\n",
    "    mass_arr_tsz_ksz_corrected.append(mass_tsz_ksz_corrected)\n",
    "\n",
    "    error_arr_baseline.append(error_baseline)\n",
    "    error_arr_tsz.append(error_tsz)\n",
    "    error_arr_tsz_corrected.append(error_tsz_corrected)\n",
    "    error_arr_ksz.append(error_ksz)\n",
    "    error_arr_tsz_ksz.append(error_tsz_ksz)\n",
    "    error_arr_tsz_ksz_corrected.append(error_tsz_ksz_corrected)\n",
    "         \n",
    "del maps_clus_baseline \n",
    "del maps_clus_tsz \n",
    "del maps_clus_ksz \n",
    "del maps_clus_tsz_ksz\n",
    "\n",
    "\n",
    "\n",
    "mass_arr = [mass_arr_baseline, mass_arr_tsz, mass_arr_tsz_corrected, mass_arr_ksz, mass_arr_tsz_ksz, mass_arr_tsz, mass_arr_tsz_ksz_corrected]\n",
    "np.save('/Volumes/Extreme_SSD/codes/master_thesis/code/results/mass_arr_foreground_bias.npy', mass_arr)\n",
    "error_arr = [error_arr_baseline, error_arr_tsz, error_arr_tsz_corrected, error_arr_ksz, error_arr_tsz_ksz, error_arr_tsz, error_arr_tsz_ksz_corrected]\n",
    "np.save('/Volumes/Extreme_SSD/codes/master_thesis/code/results/error_arr_foreground_bias.npy', error_arr)\n",
    "    \n",
    "comb_lk_baseline, mass_comb_lk_baseline, error_comb_lk_baseline = stats.combined_likelihood(mass_int_lk_baseline, lk_arr_baseline)      \n",
    "comb_lk_tsz, mass_comb_lk_tsz, error_comb_lk_tsz = stats.combined_likelihood(mass_int_lk_tsz, lk_arr_tsz)   \n",
    "comb_lk_tsz_corrected, mass_comb_lk_tsz_corrected, error_comb_lk_tsz_corrected = stats.combined_likelihood(mass_int_lk_tsz_corrected, lk_arr_tsz_corrected)   \n",
    "comb_lk_ksz, mass_comb_lk_ksz, error_comb_lk_ksz = stats.combined_likelihood(mass_int_lk_ksz, lk_arr_ksz)\n",
    "comb_lk_tsz_ksz, mass_comb_lk_tsz_ksz, error_comb_lk_tsz_ksz = stats.combined_likelihood(mass_int_lk_tsz_ksz, lk_arr_tsz_ksz)   \n",
    "comb_lk_tsz_ksz_corrected, mass_comb_lk_tsz_ksz_corrected, error_comb_lk_tsz_ksz_corrected = stats.combined_likelihood(mass_int_lk_tsz_ksz_corrected, lk_arr_tsz_ksz_corrected)   \n",
    "\n",
    "\n",
    "mass_arr_comb_lk = [mass_comb_lk_baseline, mass_comb_lk_tsz, mass_comb_lk_tsz_corrected, mass_comb_lk_ksz, mass_comb_lk_tsz_ksz, mass_comb_lk_tsz_ksz_corrected]\n",
    "np.save('/Volumes/Extreme_SSD/codes/master_thesis/code/results/mass_arr_comb_lk_foreground_bias.npy', mass_arr_comb_lk)\n",
    "error_arr_comb_lk = [error_comb_lk_baseline, error_comb_lk_tsz, error_comb_lk_tsz_corrected, error_comb_lk_ksz, error_comb_lk_tsz_ksz, error_comb_lk_tsz_ksz_corrected]\n",
    "np.save('/Volumes/Extreme_SSD/codes/master_thesis/code/results/error_arr_comb_lk_foreground_bias.npy', error_arr_comb_lk)  \n",
    "\n",
    "\n",
    "bias = (mass_comb_lk_tsz-(M200c*1e-14))/(M200c*1e-14)\n",
    "inc_err_frac_tsz = error_comb_lk_tsz/error_comb_lk_baseline\n",
    "inc_err_frac_tsz_corrected = error_comb_lk_tsz_corrected/error_comb_lk_baseline\n",
    "inc_err_frac_ksz = error_comb_lk_ksz/error_comb_lk_baseline\n",
    "inc_err_frac_tsz_ksz = error_comb_lk_tsz_ksz/error_comb_lk_baseline\n",
    "inc_err_frac_tsz_ksz_corrected = error_comb_lk_tsz_ksz_corrected/error_comb_lk_baseline\n",
    "result = \"{0:11.3f}\".format(bias)+'\\n'\n",
    "result+= \"{0:11.3f}\".format(inc_err_frac_tsz)+'\\n'\n",
    "result+= \"{0:11.3f}\".format(inc_err_frac_tsz_corrected)+'\\n'\n",
    "result+= \"{0:11.3f}\".format(inc_err_frac_ksz)+'\\n'\n",
    "result+= \"{0:11.3f}\".format(inc_err_frac_tsz_ksz)+'\\n'\n",
    "result+= \"{0:11.3f}\".format(inc_err_frac_tsz_ksz_corrected)\n",
    "file = open('/Volumes/Extreme_SSD/codes/master_thesis/code/results/bias_result_foreground_bias.txt',\"w\")\n",
    "file.write(result)\n",
    "file.close() "
   ]
  },
  {
   "cell_type": "code",
   "execution_count": null,
   "id": "neural-samoa",
   "metadata": {
    "scrolled": false
   },
   "outputs": [],
   "source": [
    "with open('/Volumes/Extreme_SSD/codes/master_thesis/code/results/mass_arr_foreground_bias.npy', 'rb') as file:\n",
    "    mass_arr = np.load(file) \n",
    "    \n",
    "with open('/Volumes/Extreme_SSD/codes/master_thesis/code/results/error_arr_foreground_bias.npy', 'rb') as file:\n",
    "    error_arr = np.load(file) \n",
    "    \n",
    "with open('/Volumes/Extreme_SSD/codes/master_thesis/code/results/mass_arr_comb_lk_foreground_bias.npy', 'rb') as file:\n",
    "    mass_arr_comb_lk = np.load(file) \n",
    "    \n",
    "with open('/Volumes/Extreme_SSD/codes/master_thesis/code/results/error_arr_comb_lk_foreground_bias.npy', 'rb') as file:\n",
    "    error_arr_comb_lk = np.load(file) \n",
    "\n",
    "    \n",
    "fig, ax = plt.subplots(figsize=(7,5))\n",
    "centers_baseline = np.asarray(mass_arr[0])-M200c*1e-14\n",
    "centers_tsz = np.asarray(mass_arr[1])-M200c\n",
    "centers_tsz_corrected = np.asarray(mass_arr[2])M200c*1e-14\n",
    "centers_ksz = np.asarray(mass_arr[3])-M200c*1e-14\n",
    "centers_tsz_ksz = np.asarray(mass_arr[4])-M200c*1e-14\n",
    "centers_tsz_ksz_corrected = np.asarray(mass_arr[5])-M200c*1e-14\n",
    "centers = [centers_baseline, centers_tsz , centers_tsz_corrected, centers_ksz , centers_tsz_ksz, centers_tsz_ksz_corrected]\n",
    "width_arr = [error_arr[0], error_arr[1], error_arr[2], error_arr[3], error_arr[4], error_arr[5], error_arr[6]]\n",
    "for cntr, (center, widthval, colorval) in enumerate(zip(centers, width_arr, color_arr )):\n",
    "    yval = [cntr for i in range(len(center))]\n",
    "    plt.errorbar(center, yval, xerr = widthval, color = colorval, marker = 'o', ls = '', alpha = 0.05)\n",
    "plt.errorbar(mass_arr_comb_lk[0]-M200c, 0, xerr = error_arr_comb_lk[0], color = color_arr[0], marker = 'o', ls = '')\n",
    "plt.errorbar(mass_arr_comb_lk[1]-M200c, 1, xerr = error_arr_comb_lk[1], color = color_arr[1], marker = 'o', ls = '')\n",
    "plt.errorbar(mass_arr_comb_lk[2]-M200c, 2, xerr = error_arr_comb_lk[2], color = color_arr[2], marker = 'o', ls = '')\n",
    "plt.errorbar(mass_arr_comb_lk[3]-M200c, 0, xerr = error_arr_comb_lk[3], color = color_arr[3], marker = 'o', ls = '')\n",
    "plt.errorbar(mass_arr_comb_lk[4]-M200c, 1, xerr = error_arr_comb_lk[4], color = color_arr[4], marker = 'o', ls = '')\n",
    "plt.errorbar(mass_arr_comb_lk[5]-M200c, 2, xerr = error_arr_comb_lk[5], color = color_arr[5], marker = 'o', ls = '')\n",
    "plt.axvline(0, color = 'green', ls = '--')\n",
    "ax.spines['left'].set_visible(False)\n",
    "ax.spines['right'].set_visible(False)\n",
    "ax.spines['top'].set_visible(False)\n",
    "ax.axes.yaxis.set_ticks([])\n",
    "plt.text(0.42, 0, 'baseline', fontsize = sz_ft)\n",
    "plt.text(0.42, 1, 'with tSZ', fontsize = sz_ft)\n",
    "plt.text(0.42, 2, 'with kSZ', fontsize = sz_ft)\n",
    "plt.text(0.42, 3, 'with tSZ and kSZ', fontsize = sz_ft)\n",
    "plt.text(0.42, 4, 'tSZ corrected', fontsize = sz_ft)\n",
    "plt.text(0.42, 5, 'tSZ and kSZ corrected', fontsize = sz_ft)\n",
    "plt.xlabel(r'$M_{lens}-M_{true}$', fontsize = sz_ft)\n",
    "plt.savefig('/Volumes/Extreme_SSD/codes/master_thesis/code/figures/foreground_bias.eps', dpi = 200., bbox_inches = 'tight', pad_inches = 0.1)"
   ]
  },
  {
   "cell_type": "code",
   "execution_count": null,
   "id": "invalid-universe",
   "metadata": {},
   "outputs": [],
   "source": []
  }
 ],
 "metadata": {
  "kernelspec": {
   "display_name": "Python 3",
   "language": "python",
   "name": "python3"
  },
  "language_info": {
   "codemirror_mode": {
    "name": "ipython",
    "version": 3
   },
   "file_extension": ".py",
   "mimetype": "text/x-python",
   "name": "python",
   "nbconvert_exporter": "python",
   "pygments_lexer": "ipython3",
   "version": "3.8.8"
  }
 },
 "nbformat": 4,
 "nbformat_minor": 5
}
