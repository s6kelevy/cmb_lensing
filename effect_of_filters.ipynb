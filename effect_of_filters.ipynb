{
 "cells": [
  {
   "cell_type": "markdown",
   "id": "israeli-cement",
   "metadata": {},
   "source": [
    "# Effects of Filters\n",
    "\n",
    "Two filter are applied to the cutouts before estimating the median gradient direction and orientation in each cutout. The first is a Wiener filter:\n",
    "\n",
    "$$ W_\\ell = \\frac{C_\\ell}{C_\\ell + C_{\\ell, \\text{noise}}} \\;, $$ \n",
    "\n",
    "where $C_\\ell$ is the large-scale structure lensed CMB temperature power spectrum and $ C_{\\ell, \\text{noise}}$ is the total noise power spectrum of the map. The Wiener filter is used to reduce the noise penalty in the gradient estimation. \n",
    "The second filter is a low-pass filter to remove the lensing signal in the cluster-lensed maps :\n",
    "\n",
    "$$L_\\ell = \n",
    "\\begin{cases}\n",
    "1 &  ,\\text{ } \\ell \\leqslant 2000 \\\\\n",
    "0 &  ,\\text{ } \\ell > 2000\n",
    "\\end{cases} \\; , $$\n",
    "\n",
    "Note that both filters are apllied on the cluster-unlensed maps in order to ensure that the median gradient direction and magnitude are estimated in the same way. The final filter is thus given by \n",
    "\n",
    "$$ W_{\\ell, \\text{final}} = \n",
    "\\begin{cases}\n",
    "\\frac{C_\\ell}{C_\\ell + N_{\\ell}} &  ,\\text{ } \\ell \\leqslant 2000 \\\\\n",
    "0 &  ,\\text{ } \\ell > 2000\n",
    "\\end{cases} \\; . $$\n",
    "\n",
    "Below, we show how the maps change after successively applying the individual filters to a cluster lensed CMB temperature map contain 2 $\\mu$K-arcmin white noise."
   ]
  },
  {
   "cell_type": "code",
   "execution_count": 1,
   "id": "painted-stewart",
   "metadata": {},
   "outputs": [],
   "source": [
    "### importing relevant modules ###\n",
    "%load_ext autoreload \n",
    "%autoreload 2\n",
    "import numpy as np\n",
    "import matplotlib.pyplot as plt\n",
    "import matplotlib.cm as cm\n",
    "import matplotlib\n",
    "from pylab import rcParams\n",
    "from matplotlib import rc;rc('text', usetex=True);rc('font', weight='bold');matplotlib.rcParams['text.latex.preamble'] = r'\\boldmath'\n",
    "rcParams['font.family'] = 'serif'\n",
    "rc('text.latex',preamble=r'\\usepackage{/Volumes/Extreme_SSD/codes/master_thesis/code/configs/apjfonts}')\n",
    "from mpl_toolkits.axes_grid1 import make_axes_locatable\n",
    "sz_ft = 18\n",
    "sz_lb = 18\n",
    "import cosmo\n",
    "from cosmo import CosmoCalc\n",
    "import sims\n",
    "import tools\n",
    "import experiments as exp"
   ]
  },
  {
   "cell_type": "code",
   "execution_count": 2,
   "id": "recognized-shipping",
   "metadata": {},
   "outputs": [
    {
     "name": "stderr",
     "output_type": "stream",
     "text": [
      "/Volumes/Extreme_SSD/codes/master_thesis/code/cosmo.py:98: RuntimeWarning: invalid value encountered in true_divide\n",
      "  cl = dl * 2 * np.pi / (l*(l+1))\n",
      "/Volumes/Extreme_SSD/codes/master_thesis/code/lensing.py:117: RuntimeWarning: divide by zero encountered in arctanh\n",
      "  f[x3] = (1/np.sqrt(1-x[x3]**2))*np.arctanh(np.sqrt(1-x[x3]**2))\n",
      "/Volumes/Extreme_SSD/codes/master_thesis/code/lensing.py:45: RuntimeWarning: invalid value encountered in true_divide\n",
      "  alphaX_fft =  1j * lX * 2. *  kappa_map_fft / l2d**2\n",
      "/Volumes/Extreme_SSD/codes/master_thesis/code/lensing.py:46: RuntimeWarning: invalid value encountered in true_divide\n",
      "  alphaY_fft =  1j * lY * 2. *  kappa_map_fft / l2d**2\n"
     ]
    },
    {
     "data": {
      "image/png": "[encoded data removed]",
      "text/plain": [
       "<Figure size 720x720 with 6 Axes>"
      ]
     },
     "metadata": {
      "needs_background": "light"
     },
     "output_type": "display_data"
    }
   ],
   "source": [
    "### settings used to generate a cluster-lensed CMB map ###\n",
    "nber_maps = 1\n",
    "map_params = [240, 0.25, 240, 0.25]\n",
    "l, cl = CosmoCalc().cmb_power_spectrum()\n",
    "cluster = [9e15, 3, 1]\n",
    "l, bl = exp.beam_power_spectrum(beam_fwhm = 1.0)\n",
    "l, nl = exp.white_noise_power_spectrum(noiseval_white = 2.0)\n",
    "l, nl_deconvolved =  exp.white_noise_power_spectrum(noiseval_white = 2.0, beam_fwhm = 1.0)\n",
    "cl_noise = nl_deconvolved\n",
    "\n",
    "\n",
    "### computing the filters ###\n",
    "wiener_filter = tools.wiener_filter(l, cl, cl_noise)\n",
    "low_pass_filter = tools.low_pass_filter(l,  2000)\n",
    "\n",
    "\n",
    "### creating and filtering the cluster-lensed CMB map ###\n",
    "cmb_map = sims.cmb_mock_data(map_params, l, cl, cluster = cluster, bl = bl, nl = nl)\n",
    "cmb_map_wiener_filtered = tools.convolve(cmb_map, l, wiener_filter, map_params = map_params) \n",
    "cmb_map_low_pass_filtered = tools.convolve(cmb_map_wiener_filtered, l, low_pass_filter, map_params = map_params) \n",
    "maps = [cmb_map, cmb_map_wiener_filtered, cmb_map_low_pass_filtered]\n",
    "\n",
    "\n",
    "### plotting the (10'x10') central cutout of the three maps to show the effect of the filters ###\n",
    "_, extent = tools.make_grid([40, 0.25, 40, 0.25])\n",
    "fig, axs = plt.subplots(1,3, figsize=(10,10))\n",
    "titles = ['Unfiltered', 'Wiener Filtered', 'Low-Pass Filtered']\n",
    "\n",
    "for i, ax in enumerate(axs):\n",
    "    im = ax.imshow(maps[i][100:140, 100:140], extent = extent, cmap = cm.RdBu_r)\n",
    "    divider = make_axes_locatable(ax)\n",
    "    cax = divider.append_axes(\"right\", size = \"5%\", pad = 0.1)\n",
    "    cb = fig.colorbar(im, cax = cax)\n",
    "    cb.ax.tick_params(labelsize = sz_lb)\n",
    "    ax.set_xlabel(r'$\\theta_x\\ $'+'[arcmin]', fontsize = sz_ft)\n",
    "    if i == 0:\n",
    "        ax.set_ylabel(r'$\\theta_y\\ $'+'[arcmin]', fontsize = sz_ft)\n",
    "    else: \n",
    "        ax.get_yaxis().set_visible(False)\n",
    "    ax.set_title(titles[i], fontsize = sz_ft)\n",
    "    ax.tick_params(labelsize = sz_lb)\n",
    "cb.set_label(label=r'$T \\ [\\mu$'+'K]', size=sz_ft)\n",
    "    \n",
    "fig.tight_layout(pad=1)\n",
    "fig.savefig('/Volumes/Extreme_SSD/codes/master_thesis/code/figures/effect_of_filters.eps', dpi = 200, bbox_inches = 'tight')"
   ]
  },
  {
   "cell_type": "markdown",
   "id": "orange-giant",
   "metadata": {},
   "source": [
    "As can be seen from the cutouts, the Wiener filter removes most of the white noise but the map will stilll containg the lensing signal from the cluster. After additionally applying the low-pass filter, the lensing signal is properly removed. "
   ]
  }
 ],
 "metadata": {
  "kernelspec": {
   "display_name": "Python 3",
   "language": "python",
   "name": "python3"
  },
  "language_info": {
   "codemirror_mode": {
    "name": "ipython",
    "version": 3
   },
   "file_extension": ".py",
   "mimetype": "text/x-python",
   "name": "python",
   "nbconvert_exporter": "python",
   "pygments_lexer": "ipython3",
   "version": "3.8.8"
  }
 },
 "nbformat": 4,
 "nbformat_minor": 5
}
