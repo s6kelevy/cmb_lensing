{
 "cells": [
  {
   "cell_type": "code",
   "execution_count": 1,
   "id": "persistent-sampling",
   "metadata": {},
   "outputs": [],
   "source": [
    "%load_ext autoreload \n",
    "%autoreload 2\n",
    "import numpy as np\n",
    "import random\n",
    "from colossus.cosmology import cosmology\n",
    "cosmology.setCosmology('planck18')\n",
    "from colossus.halo import concentration, mass_defs\n",
    "import matplotlib.pyplot as plt\n",
    "import matplotlib.cm as cm\n",
    "import matplotlib\n",
    "from pylab import rcParams\n",
    "from matplotlib import rc;rc('text', usetex=True);rc('font', weight='bold');matplotlib.rcParams['text.latex.preamble'] = r'\\boldmath'\n",
    "rcParams['font.family'] = 'serif'\n",
    "rc('text.latex',preamble=r'\\usepackage{/Volumes/Extreme_SSD/codes/master_thesis/code/configs/apjfonts}')\n",
    "sz_ft = 18\n",
    "sz_lb = 18\n",
    "color_arr = ['firebrick', 'deepskyblue', 'seagreen']\n",
    "from tqdm import tqdm\n",
    "import cosmo\n",
    "import lensing_estimator\n",
    "from cosmo import CosmoCalc\n",
    "import lensing\n",
    "import foregrounds as fg\n",
    "import experiments as exp\n",
    "import sims\n",
    "import stats\n",
    "import tools"
   ]
  },
  {
   "cell_type": "code",
   "execution_count": 2,
   "id": "desirable-exchange",
   "metadata": {},
   "outputs": [
    {
     "name": "stderr",
     "output_type": "stream",
     "text": [
      "/Volumes/Extreme_SSD/codes/master_thesis/code/cosmo.py:98: RuntimeWarning: invalid value encountered in true_divide\n",
      "  cl = dl * 2 * np.pi / (l*(l+1))\n"
     ]
    }
   ],
   "source": [
    "nber_clus = 3000\n",
    "nber_rand = 50000\n",
    "nber_cov = 1000\n",
    "nber_runs = 25\n",
    "map_params = [180, 0.5, 180, 0.5]\n",
    "beamval = 1.0\n",
    "noiseval = 2.0\n",
    "l, cl = CosmoCalc().cmb_power_spectrum()\n",
    "l, bl = exp.beam_power_spectrum(beam_fwhm = beamval)\n",
    "l, nl = exp.white_noise_power_spectrum(noiseval_white = noiseval)\n",
    "l, cl_noise =exp.white_noise_power_spectrum(noiseval_white = noiseval, beam_fwhm = beamval)\n",
    "z = 0.7\n",
    "cluster = [2e14, cosmo.concentration_parameter(2e14, z, 0.674), z]\n",
    "centroid_shift_value = 0.5\n",
    "mass_int = np.arange(0, 4, 0.1)"
   ]
  },
  {
   "cell_type": "code",
   "execution_count": 3,
   "id": "starting-jacksonville",
   "metadata": {},
   "outputs": [],
   "source": [
    "%%script false --no-raise-error\n",
    "maps_rand = sims.cmb_mock_data(map_params, l, cl,  bl = bl, nl = nl, nber_obs = nber_rand)\n",
    "stack_bg = lensing_estimator.stack(map_params, maps_rand, l = l, cl = cl, cl_noise = cl_noise)\n",
    "del maps_rand\n",
    "np.save('/Volumes/Extreme_SSD/codes/master_thesis/code/results/stack_bg_50000rand_2uK-arcmin.npy', stack_bg)   "
   ]
  },
  {
   "cell_type": "code",
   "execution_count": 4,
   "id": "designing-imagination",
   "metadata": {},
   "outputs": [],
   "source": [
    "%%script false --no-raise-error\n",
    "covariance_matrix, _ = lensing_estimator.covariance_and_correlation_matrix(nber_cov, nber_clus, map_params, l, cl, bl = bl, nl = nl, cl_noise = cl_noise)\n",
    "np.save('/Volumes/Extreme_SSD/codes/master_thesis/code/results/covariance_matrix_3000clus_2uK-arcmin.npy', covariance_matrix) "
   ]
  },
  {
   "cell_type": "code",
   "execution_count": 5,
   "id": "minor-liabilities",
   "metadata": {},
   "outputs": [],
   "source": [
    "%%script false --no-raise-error\n",
    "model_profiles = lensing_estimator.model_profiles(nber_clus, map_params, l, cl, mass_int, z, centroid_shift_value = centroid_shift_value, bl = bl, cl_noise = cl_noise)\n",
    "np.save('/Volumes/Extreme_SSD/codes/master_thesis/code/results/model_profiles_centroid_shift.npy', model_profiles)    "
   ]
  },
  {
   "cell_type": "code",
   "execution_count": 6,
   "id": "dietary-variety",
   "metadata": {},
   "outputs": [],
   "source": [
    "%%script false --no-raise-error\n",
    "stack_bg = np.load('/Volumes/Extreme_SSD/codes/master_thesis/code/results/stack_bg_50000rand_2uK-arcmin.npy')   \n",
    "covariance_matrix = np.load('/Volumes/Extreme_SSD/codes/master_thesis/code/results/covariance_matrix_3000clus_2uK-arcmin.npy')  \n",
    "model_profiles_baseline =  np.load('/Volumes/Extreme_SSD/codes/master_thesis/code/results/model_profiles_2uK-arcmin.npy')    \n",
    "model_profiles_centroid_shift = np.load('/Volumes/Extreme_SSD/codes/master_thesis/code/results/model_profiles_centroid_shift.npy')     \n",
    "\n",
    "    \n",
    "lk_arr_baseline, mass_arr_baseline, error_arr_baseline = [], [], []    \n",
    "lk_arr_centroid_shift, mass_arr_centroid_shift, error_arr_centroid_shift = [], [], []\n",
    "lk_arr_centroid_shift_corrected, mass_arr_centroid_shift_corrected, error_arr_centroid_shift_corrected = [], [], []   \n",
    "for i in tqdm(range(nber_runs)):    \n",
    "    maps_clus_baseline, maps_clus_centroid_shift = sims.cmb_test_data(map_params, l, cl, cluster = cluster, centroid_shift_value = centroid_shift_value, bl = bl, nl = nl, nber_obs = nber_clus, clus_positions = True)                                                                             \n",
    "    stack_clus_baseline = lensing_estimator.stack(map_params, maps_clus_baseline, l = l, cl = cl, cl_noise = cl_noise)\n",
    "    stack_clus_centroid_shift = lensing_estimator.stack(map_params, maps_clus_centroid_shift, l = l, cl = cl, cl_noise = cl_noise)\n",
    "    \n",
    "    bins_baseline, lensing_dipole_profile_baseline, stack_baseline = lensing_estimator.lensing_dipole(map_params, stack_clus_baseline, stack_bg)\n",
    "    bins_centroid_shift, lensing_dipole_profile_centroid_shift, stack_centroid_shift = lensing_estimator.lensing_dipole(map_params, stack_clus_centroid_shift, stack_bg)\n",
    "    \n",
    "    \n",
    "    data_baseline = bins_baseline, lensing_dipole_profile_baseline, covariance_matrix\n",
    "    data_centroid_shift = bins_centroid_shift, lensing_dipole_profile_centroid_shift, covariance_matrix\n",
    "\n",
    "    likelihood_baseline, mass_baseline, error_baseline = stats.run_ml(data_baseline, model_profiles_baseline, mass_int)\n",
    "    mass_int_lk_baseline, lk_baseline = likelihood_baseline\n",
    "    likelihood_centroid_shift, mass_centroid_shift, error_centroid_shift = stats.run_ml(data_centroid_shift, model_profiles_baseline, mass_int)\n",
    "    mass_int_lk_centroid_shift, lk_centroid_shift = likelihood_centroid_shift\n",
    "    likelihood_centroid_shift_corrected, mass_centroid_shift_corrected, error_centroid_shift_corrected = stats.run_ml(data_centroid_shift, model_profiles_centroid_shift, mass_int)\n",
    "    mass_int_lk_centroid_shift_corrected, lk_centroid_shift_corrected = likelihood_centroid_shift_corrected\n",
    "    \n",
    "    lk_arr_baseline.append(lk_baseline)\n",
    "    lk_arr_centroid_shift.append(lk_centroid_shift)\n",
    "    lk_arr_centroid_shift_corrected.append(lk_centroid_shift_corrected)\n",
    "    mass_arr_baseline.append(mass_baseline)\n",
    "    mass_arr_centroid_shift.append(mass_centroid_shift)\n",
    "    mass_arr_centroid_shift_corrected.append(mass_centroid_shift_corrected)\n",
    "    error_arr_baseline.append(error_baseline)\n",
    "    error_arr_centroid_shift.append(error_centroid_shift)\n",
    "    error_arr_centroid_shift_corrected.append(error_centroid_shift_corrected)\n",
    "         \n",
    "    del maps_clus_baseline\n",
    "    del maps_clus_centroid_shift\n",
    "\n",
    "\n",
    "\n",
    "mass_arr = [mass_arr_baseline, mass_arr_centroid_shift, mass_arr_centroid_shift_corrected]\n",
    "np.save('/Volumes/Extreme_SSD/codes/master_thesis/code/results/mass_arr_cluster_positions.npy', mass_arr)\n",
    "error_arr = [error_arr_baseline, error_arr_centroid_shift, error_arr_centroid_shift_corrected]\n",
    "np.save('/Volumes/Extreme_SSD/codes/master_thesis/code/results/error_arr_cluster_positions.npy', error_arr)\n",
    "\n",
    "    \n",
    "comb_lk_baseline, mass_comb_lk_baseline, error_comb_lk_baseline = stats.combined_likelihood(mass_int_lk_baseline, lk_arr_baseline)      \n",
    "comb_lk_centroid_shift, mass_comb_lk_centroid_shift, error_comb_lk_centroid_shift = stats.combined_likelihood(mass_int_lk_centroid_shift, lk_arr_centroid_shift)      \n",
    "comb_lk_centroid_shift_corrected, mass_comb_lk_centroid_shift_corrected, error_comb_lk_centroid_shift_corrected = stats.combined_likelihood(mass_int_lk_centroid_shift_corrected, lk_arr_centroid_shift_corrected)      \n",
    "mass_arr_comb_lk = [mass_comb_lk_baseline, mass_comb_lk_centroid_shift, mass_comb_lk_centroid_shift_corrected]\n",
    "np.save('/Volumes/Extreme_SSD/codes/master_thesis/code/results/mass_arr_comb_lk_cluster_positions.npy', mass_arr_comb_lk)\n",
    "error_arr_comb_lk = [error_comb_lk_baseline, error_comb_lk_centroid_shift, error_comb_lk_centroid_shift_corrected]\n",
    "np.save('/Volumes/Extreme_SSD/codes/master_thesis/code/results/error_arr_comb_lk_cluster_positions.npy', error_arr_comb_lk) \n",
    "\n",
    "\n",
    "bias = (mass_comb_lk_centroid_shift-2)/2\n",
    "inc_err_frac_centroid_shift = error_comb_lk_centroid_shift/error_comb_lk_baseline\n",
    "inc_err_frac_centroid_shift_corrected = error_comb_lk_centroid_shift_corrected/error_comb_lk_baseline\n",
    "result = \"{0:11.3f}\".format(bias)+'\\n'\n",
    "result+= \"{0:11.3f}\".format(inc_err_frac_centroid_shift)+'\\n'\n",
    "result+= \"{0:11.3f}\".format(inc_err_frac_centroid_shift_corrected)\n",
    "file = open('/Volumes/Extreme_SSD/codes/master_thesis/code/results/bias_result_cluster_positions.txt',\"w\")\n",
    "file.write(result)\n",
    "file.close() "
   ]
  },
  {
   "cell_type": "code",
   "execution_count": 7,
   "id": "mediterranean-cruise",
   "metadata": {},
   "outputs": [
    {
     "data": {
      "image/png": "[encoded data removed]",
      "text/plain": [
       "<Figure size 504x360 with 1 Axes>"
      ]
     },
     "metadata": {
      "needs_background": "light"
     },
     "output_type": "display_data"
    }
   ],
   "source": [
    "with open('/Volumes/Extreme_SSD/codes/master_thesis/code/results/mass_arr_cluster_positions.npy', 'rb') as file:\n",
    "    mass_arr = np.load(file) \n",
    "    \n",
    "with open('/Volumes/Extreme_SSD/codes/master_thesis/code/results/error_arr_cluster_positions.npy', 'rb') as file:\n",
    "    error_arr = np.load(file) \n",
    "    \n",
    "with open('/Volumes/Extreme_SSD/codes/master_thesis/code/results/mass_arr_comb_lk_cluster_positions.npy', 'rb') as file:\n",
    "    mass_arr_comb_lk = np.load(file) \n",
    "    \n",
    "with open('/Volumes/Extreme_SSD/codes/master_thesis/code/results/error_arr_comb_lk_cluster_positions.npy', 'rb') as file:\n",
    "    error_arr_comb_lk = np.load(file) \n",
    "\n",
    "fig, ax = plt.subplots(figsize=(7,5))\n",
    "centers_baseline = np.asarray(mass_arr[0])-2\n",
    "centers_centroid_shift = np.asarray(mass_arr[1])-2\n",
    "centers_centroid_shift_corrected = np.asarray(mass_arr[2])-2\n",
    "centers = [centers_baseline, centers_centroid_shift, centers_centroid_shift_corrected]\n",
    "width_arr = [error_arr[0], error_arr[1], error_arr[2]]\n",
    "yvals = [0.25,0.5,0.75]\n",
    "ax.set_ylim(0.,1.)\n",
    "markers = ['o', '^', 'd']\n",
    "for cntr, (center, widthval, colorval) in enumerate(zip(centers, width_arr, color_arr )):\n",
    "    yval = [yvals[cntr] for i in range(len(center))]\n",
    "    plt.plot(center, yval, color = colorval, marker = markers[cntr], markersize = sz_lb-10, ls = '', alpha = 0.15)\n",
    "plt.errorbar(mass_arr_comb_lk[0]-2, yvals[0], xerr = error_arr_comb_lk[0],elinewidth=sz_lb-15, color = color_arr[0],  marker = 'o', markersize = sz_lb-8, ls = '')\n",
    "plt.errorbar(mass_arr_comb_lk[1]-2, yvals[1], xerr = error_arr_comb_lk[1], elinewidth=sz_lb-15,color = color_arr[1], marker = '^', markersize = sz_lb-8, ls = '')\n",
    "plt.errorbar(mass_arr_comb_lk[2]-2, yvals[2], xerr = error_arr_comb_lk[2],elinewidth=sz_lb-15, color = color_arr[2], marker = 'd', markersize = sz_lb-8, ls = '')\n",
    "plt.axvline(0, color = 'black', ls = '-')\n",
    "ax.spines['left'].set_visible(False)\n",
    "ax.spines['right'].set_visible(False)\n",
    "ax.spines['top'].set_visible(False)\n",
    "ax.tick_params(labelsize = sz_lb)\n",
    "ax.axes.yaxis.set_ticks([])\n",
    "plt.text(0.6, yvals[0], 'baseline', fontsize = sz_lb+4)\n",
    "plt.text(-1.4, yvals[1], '+ 0.5\\' shift', fontsize = sz_lb+4)\n",
    "plt.text(1.6, yvals[2], 'corrected', fontsize = sz_lb+4)\n",
    "plt.xlabel(r'$M_{\\rm lens}-M_{\\rm true}$', fontsize = sz_ft+8)\n",
    "plt.savefig('/Volumes/Extreme_SSD/codes/master_thesis/code/figures/cluster_positions.pdf', dpi = 200., bbox_inches = 'tight', pad_inches = 0.1)"
   ]
  }
 ],
 "metadata": {
  "kernelspec": {
   "display_name": "Python 3",
   "language": "python",
   "name": "python3"
  },
  "language_info": {
   "codemirror_mode": {
    "name": "ipython",
    "version": 3
   },
   "file_extension": ".py",
   "mimetype": "text/x-python",
   "name": "python",
   "nbconvert_exporter": "python",
   "pygments_lexer": "ipython3",
   "version": "3.8.8"
  }
 },
 "nbformat": 4,
 "nbformat_minor": 5
}
