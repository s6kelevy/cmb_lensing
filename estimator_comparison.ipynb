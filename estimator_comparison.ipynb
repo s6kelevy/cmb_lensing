{
 "cells": [
  {
   "cell_type": "code",
   "execution_count": 1,
   "id": "constitutional-filename",
   "metadata": {},
   "outputs": [],
   "source": [
    "%load_ext autoreload \n",
    "%autoreload 2\n",
    "import numpy as np\n",
    "import random\n",
    "from colossus.cosmology import cosmology\n",
    "cosmology.setCosmology('planck18')\n",
    "from colossus.halo import concentration, mass_defs\n",
    "import matplotlib.pyplot as plt\n",
    "import matplotlib.cm as cm\n",
    "import matplotlib\n",
    "from pylab import rcParams\n",
    "from matplotlib import rc;rc('text', usetex=True);rc('font', weight='bold');matplotlib.rcParams['text.latex.preamble'] = r'\\boldmath'\n",
    "rcParams['font.family'] = 'serif'\n",
    "rc('text.latex',preamble=r'\\usepackage{/Volumes/Extreme_SSD/codes/master_thesis/code/configs/apjfonts}')\n",
    "sz_ft = 18\n",
    "sz_lb = 18\n",
    "color_arr = ['firebrick', 'dodgerblue', 'forestgreen']\n",
    "from tqdm import tqdm\n",
    "import cosmo\n",
    "import lensing_estimator\n",
    "from cosmo import CosmoCalc\n",
    "import lensing\n",
    "import foregrounds as fg\n",
    "import experiments as exp\n",
    "import sims\n",
    "import stats\n",
    "import tools"
   ]
  },
  {
   "cell_type": "code",
   "execution_count": 2,
   "id": "external-vinyl",
   "metadata": {},
   "outputs": [
    {
     "name": "stderr",
     "output_type": "stream",
     "text": [
      "/Volumes/Extreme_SSD/codes/master_thesis/code/cosmo.py:98: RuntimeWarning: invalid value encountered in true_divide\n",
      "  cl = dl * 2 * np.pi / (l*(l+1))\n"
     ]
    }
   ],
   "source": [
    "nber_clus = 3000\n",
    "nber_rand = 50000\n",
    "nber_cov = 1000\n",
    "nber_runs = 25\n",
    "map_params = [180, 0.5, 180, 0.5]\n",
    "l, cl = CosmoCalc().cmb_power_spectrum()\n",
    "l, bl = exp.beam_power_spectrum(beam_fwhm = 1.0)\n",
    "noiseval_arr = [0.1, 0.25, 0.5, 1, 2, 3, 5]\n",
    "nl_arr = []\n",
    "cl_noise_arr = []\n",
    "for noiseval in noiseval_arr:\n",
    "    l, nl = exp.white_noise_power_spectrum(noiseval_white = noiseval)\n",
    "    l, nl_deconvolved =exp.white_noise_power_spectrum(noiseval_white = noiseval, beam_fwhm = 1.0)\n",
    "    nl_arr.append(nl)\n",
    "    cl_noise_arr.append(nl_deconvolved)\n",
    "z = 0.7\n",
    "cluster = [2e14, cosmo.concentration_parameter(2e14, 0.7, 0.674), 0.7]\n",
    "mass_int = np.arange(0, 4, 0.1)"
   ]
  },
  {
   "cell_type": "code",
   "execution_count": 3,
   "id": "marine-running",
   "metadata": {},
   "outputs": [],
   "source": [
    "%%script false --no-raise-error\n",
    "for i, noiseval in enumerate(noiseval_arr):\n",
    "    maps_rand = sims.cmb_mock_data(map_params, l, cl,  bl = bl, nl = nl_arr[i], nber_obs = nber_rand)\n",
    "    stack_bg = lensing_estimator.stack(map_params, maps_rand, l = l, cl = cl, cl_noise = cl_noise_arr[i])\n",
    "    del maps_rand\n",
    "    np.save('/Volumes/Extreme_SSD/codes/master_thesis/code/results/stack_bg_50000rand_'+str(noiseval)+'uK-arcmin.npy', stack_bg)"
   ]
  },
  {
   "cell_type": "code",
   "execution_count": 4,
   "id": "personalized-transaction",
   "metadata": {},
   "outputs": [],
   "source": [
    "%%script false --no-raise-error\n",
    "for i, noiseval in enumerate(noiseval_arr):\n",
    "    covariance_matrix, _ = lensing_estimator.covariance_and_correlation_matrix(nber_cov, nber_clus, map_params, l, cl, bl = bl, nl = nl_arr[i], cl_noise = cl_noise_arr[i])\n",
    "    np.save('/Volumes/Extreme_SSD/codes/master_thesis/code/results/covariance_matrix_3000clus_'+str(noiseval)+'uK-arcmin.npy', covariance_matrix)"
   ]
  },
  {
   "cell_type": "code",
   "execution_count": 5,
   "id": "administrative-angel",
   "metadata": {},
   "outputs": [],
   "source": [
    "%%script false --no-raise-error\n",
    "noiseval_arr1 = [0.25, 0.5, 1, 3]\n",
    "nl_arr1 = []\n",
    "cl_noise_arr1 = []\n",
    "for noiseval1 in noiseval_arr1:\n",
    "    l, nl1 = exp.white_noise_power_spectrum(noiseval_white = noiseval1)\n",
    "    l, nl_deconvolved1 =exp.white_noise_power_spectrum(noiseval_white = noiseval1, beam_fwhm = 1.0)\n",
    "    nl_arr1.append(nl1)\n",
    "    cl_noise_arr1.append(nl_deconvolved1)\n",
    "for i, noiseval1 in enumerate(noiseval_arr1):\n",
    "    covariance_matrix, _ = lensing_estimator.covariance_and_correlation_matrix(nber_cov, nber_clus, map_params, l, cl, bl = bl, nl = nl_arr1[i], cl_noise = cl_noise_arr1[i])\n",
    "    np.save('/Volumes/Extreme_SSD/codes/master_thesis/code/results/covariance_matrix_3000clus_'+str(noiseval1)+'uK-arcmin.npy', covariance_matrix)"
   ]
  },
  {
   "cell_type": "code",
   "execution_count": 6,
   "id": "opened-romania",
   "metadata": {},
   "outputs": [],
   "source": [
    "%%script false --no-raise-error\n",
    "for i, noiseval in enumerate(noiseval_arr):\n",
    "    model_profiles = lensing_estimator.model_profiles(nber_clus, map_params, l, cl, mass_int, z, bl = bl, cl_noise = cl_noise_arr[i])\n",
    "    np.save('/Volumes/Extreme_SSD/codes/master_thesis/code/results/model_profiles_'+str(noiseval)+'uK-arcmin.npy', model_profiles) "
   ]
  },
  {
   "cell_type": "code",
   "execution_count": 7,
   "id": "polar-machinery",
   "metadata": {},
   "outputs": [],
   "source": [
    "%%script false --no-raise-error\n",
    "\n",
    "stacks_bg = []\n",
    "covariance_matrices = []\n",
    "model_profiles = []\n",
    "for noiseval in noiseval_arr:\n",
    "    stacks_bg.append(np.load('/Volumes/Extreme_SSD/codes/master_thesis/code/results/stack_bg_50000rand_'+str(noiseval)+'uK-arcmin.npy'))\n",
    "    covariance_matrices.append(np.load('/Volumes/Extreme_SSD/codes/master_thesis/code/results/covariance_matrix_3000clus_'+str(noiseval)+'uK-arcmin.npy')) \n",
    "    model_profiles.append(np.load('/Volumes/Extreme_SSD/codes/master_thesis/code/results/model_profiles_'+str(noiseval)+'uK-arcmin.npy'))  \n",
    "\n",
    "\n",
    "\n",
    "lk_arr = []\n",
    "for i in tqdm(range(nber_runs)):\n",
    "    maps_clus = sims.cmb_test_data(map_params, l, cl, cluster = cluster, bl = bl, nl = nl_arr, nber_obs = nber_clus, noise_comparison = True)\n",
    "    \n",
    "    stacks_clus = []\n",
    "    for j in range(len(maps_clus)):\n",
    "        stack_clus = lensing_estimator.stack(map_params, maps_clus[j], l = l, cl = cl, cl_noise = cl_noise_arr[j]) \n",
    "        stacks_clus.append(stack_clus)\n",
    "\n",
    "    lensing_dipole_profiles = []\n",
    "    for j in range(len(maps_clus)):\n",
    "        bins, lensing_dipole_profile, _ = lensing_estimator.lensing_dipole(map_params, stacks_clus[j], stacks_bg[j])\n",
    "        lensing_dipole_profiles.append(lensing_dipole_profile)\n",
    "\n",
    "    datasets = []\n",
    "    for j in range(len(maps_clus)):\n",
    "        dataset = bins, lensing_dipole_profiles[j], covariance_matrices[j]\n",
    "        datasets.append(dataset)\n",
    "\n",
    "    for j range(len(maps_clus)):\n",
    "        likelihood, _, _ = stats.run_ml(datasets[j], model_profiles[j], mass_int)\n",
    "        lk_mass_int_values, lk_values = likelihood\n",
    "        lk_arr.append(lk_values)\n",
    "\n",
    "    del maps_clus\n",
    "\n",
    "    \n",
    "    \n",
    "likelihoods_noise_sorted = []\n",
    "for i in range(len(noiseval_arr)):\n",
    "    likelihoods_for_noise_i = []\n",
    "    for j in range(nber_runs):\n",
    "        likelihood_for_noise_i.append(lk_arr[j][i])\n",
    "    likelihoods_noise_sorted.append(likelihood_for_noise_i)\n",
    "    \n",
    "    \n",
    "    \n",
    "mass_arr = []\n",
    "error_arr = []    \n",
    "for i in range(len(noiseval_arr)):\n",
    "    comb_lk, mass_comb_lk, error_comb_lk = stats.combined_likelihood(lk_mass_int_values, likelihoods_noise_sorted[i])\n",
    "    mass_arr.append(mass_comb_lk)\n",
    "    error_arr.append(error_comb_lk)\n",
    "\n",
    "    \n",
    "frac_mass_unc = [error_arr[i]/mass_arr[i] for i in range(len(noiseval_arr))]\n",
    "np.save('/Volumes/Extreme_SSD/codes/master_thesis/code/results/mass_results_estimator_comparison.npy', frac_mass_unc)"
   ]
  },
  {
   "cell_type": "code",
   "execution_count": 8,
   "id": "expanded-juice",
   "metadata": {},
   "outputs": [
    {
     "name": "stderr",
     "output_type": "stream",
     "text": [
      "The PostScript backend does not support transparency; partially transparent artists will be rendered opaque.\n",
      "The PostScript backend does not support transparency; partially transparent artists will be rendered opaque.\n"
     ]
    },
    {
     "data": {
      "image/png": "[encoded data removed]",
      "text/plain": [
       "<Figure size 468x396 with 1 Axes>"
      ]
     },
     "metadata": {
      "needs_background": "light"
     },
     "output_type": "display_data"
    }
   ],
   "source": [
    "noiseval_arr = [0.1, 0.25, 0.5, 1, 2, 3, 5]\n",
    "frac_mass_unc = np.load('/Volumes/Extreme_SSD/codes/master_thesis/code/results/mass_results_estimator_comparison.npy')\n",
    "noiseval_arr1 = [0.1, 0.5, 1, 3, 5, 8]\n",
    "qe = [0.002, 0.0025, 0.0032, 0.006, 0.0085, 0.0094]\n",
    "mle = [0.001, 0.0015, 0.002, 0.0045, 0.007, 0.0084]\n",
    "fig, ax = plt.subplots( figsize=(6.5,5.5))\n",
    "ax.set_xscale('log')\n",
    "ax.set_yscale('log')\n",
    "scal_fac = np.sqrt(75000./100000.)\n",
    "ax.plot(noiseval_arr1, np.asarray(qe),  color = color_arr[1], ls = '', marker = '^',markersize = sz_lb-10, label = 'QE')\n",
    "ax.plot(noiseval_arr1, mle,  color = color_arr[2], ls = '', marker = 'd',markersize = sz_lb-10, label = 'MLE')\n",
    "ax.plot(noiseval_arr, np.asarray(frac_mass_unc)*scal_fac,  color = color_arr[0], ls = '', marker = 'o',markersize = sz_lb-10, label = 'This Work')\n",
    "ax.set_xlabel(r'$\\Delta T_{\\rm white}\\ [\\mu K-arcmin]$', fontsize = sz_ft+2)\n",
    "ax.set_ylabel(r'$\\Delta M/M$', fontsize = sz_ft+2)\n",
    "ax.tick_params(labelsize = sz_lb)\n",
    "ax.legend(ncol = 3, prop={'size': sz_lb-4}) \n",
    "ax.set_ylim(0.0005, 0.1)\n",
    "ax.set_xlim(0.05, 11)\n",
    "fig.savefig('/Volumes/Extreme_SSD/codes/master_thesis/code/figures/estimator_comparison.eps', dpi = 200., bbox_inches = 'tight', pad_inches = 0.1)"
   ]
  }
 ],
 "metadata": {
  "kernelspec": {
   "display_name": "Python 3",
   "language": "python",
   "name": "python3"
  },
  "language_info": {
   "codemirror_mode": {
    "name": "ipython",
    "version": 3
   },
   "file_extension": ".py",
   "mimetype": "text/x-python",
   "name": "python",
   "nbconvert_exporter": "python",
   "pygments_lexer": "ipython3",
   "version": "3.8.8"
  }
 },
 "nbformat": 4,
 "nbformat_minor": 5
}
