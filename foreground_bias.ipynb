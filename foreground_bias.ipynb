{
 "cells": [
  {
   "cell_type": "code",
   "execution_count": 1,
   "id": "weird-queens",
   "metadata": {},
   "outputs": [],
   "source": [
    "%load_ext autoreload \n",
    "%autoreload 2\n",
    "import numpy as np\n",
    "import random\n",
    "from colossus.cosmology import cosmology\n",
    "cosmology.setCosmology('planck18')\n",
    "from colossus.halo import concentration, mass_defs\n",
    "import matplotlib.pyplot as plt\n",
    "import matplotlib.cm as cm\n",
    "import matplotlib\n",
    "from pylab import rcParams\n",
    "from matplotlib import rc;rc('text', usetex=True);rc('font', weight='bold');matplotlib.rcParams['text.latex.preamble'] = r'\\boldmath'\n",
    "rcParams['font.family'] = 'serif'\n",
    "rc('text.latex',preamble=r'\\usepackage{/Volumes/Extreme_SSD/codes/master_thesis/code/configs/apjfonts}')\n",
    "sz_ft = 18\n",
    "sz_lb = 18\n",
    "color_arr = ['indigo', 'royalblue', 'lightseagreen', 'darkgreen', 'goldenrod', 'darkred']\n",
    "from tqdm import tqdm\n",
    "import cosmo\n",
    "import lensing_estimator\n",
    "from cosmo import CosmoCalc\n",
    "import lensing\n",
    "import foregrounds as fg\n",
    "import experiments as exp\n",
    "import sims\n",
    "import stats\n",
    "import tools"
   ]
  },
  {
   "cell_type": "code",
   "execution_count": 2,
   "id": "alpine-bangkok",
   "metadata": {},
   "outputs": [
    {
     "name": "stderr",
     "output_type": "stream",
     "text": [
      "/Volumes/Extreme_SSD/codes/master_thesis/code/cosmo.py:98: RuntimeWarning: invalid value encountered in true_divide\n",
      "  cl = dl * 2 * np.pi / (l*(l+1))\n"
     ]
    }
   ],
   "source": [
    "nber_clus = 3000\n",
    "nber_rand = 30000\n",
    "nber_cov = 500\n",
    "nber_runs = 25\n",
    "map_params = [180, 0.5, 180, 0.5]\n",
    "l, cl = CosmoCalc().cmb_power_spectrum()\n",
    "l, bl = exp.beam_power_spectrum(beam_fwhm = 1.0)\n",
    "noiseval_arr = [0.1, 0.25, 0.5, 1, 2, 3, 5]\n",
    "nl_arr = []\n",
    "cl_noise_arr = []\n",
    "for noiseval in noiseval_arr:\n",
    "    l, nl = exp.white_noise_power_spectrum(noiseval_white = noiseval)\n",
    "    l, nl_deconvolved =exp.white_noise_power_spectrum(noiseval_white = noiseval, beam_fwhm = 1.0)\n",
    "    nl_arr.append(nl)\n",
    "    cl_noise_arr.append(nl_deconvolved)\n",
    "z = 0.7"
   ]
  },
  {
   "cell_type": "code",
   "execution_count": 3,
   "id": "several-myanmar",
   "metadata": {},
   "outputs": [],
   "source": [
    "c500 = concentration.concentration(2e14, '500c', 0.7)\n",
    "M200c, _, _ = mass_defs.changeMassDefinition(2e14, c500, 0.7, '500c', '200c', profile='nfw')\n",
    "cluster = [M200c, 3, 0.7] \n",
    "fname = '/Volumes/Extreme_SSD/codes/master_thesis/code/data/mdpl2_cutouts_for_tszksz_clus_detection_M1.7e+14to2.3e+14_z0.6to0.8_15320haloes_boxsize10.0am_dx0.5am.npz'\n",
    "cutouts_dic = np.load(fname, allow_pickle = 1, encoding= 'latin1')['arr_0'].item()\n",
    "mass_z_key = list(cutouts_dic.keys())[0]\n",
    "cutouts = cutouts_dic[mass_z_key]\n",
    "scale_fac = fg.compton_y_to_delta_Tcmb(freq = 150, uK = True)\n",
    "tsz_cutouts, ksz_cutouts, tsz_ksz_cutouts = [], [], []\n",
    "for kcntr, keyname in enumerate( cutouts ):\n",
    "    tsz_cutout = cutouts[keyname]['y']*scale_fac\n",
    "    tsz_cutouts.append(tsz_cutout)\n",
    "    ksz_cutout = cutouts[keyname]['ksz']*random.randrange(-1, 2, 2)\n",
    "    ksz_cutouts.append(ksz_cutout)\n",
    "    tsz_ksz_cutout = tsz_cutout + ksz_cutout\n",
    "    tsz_ksz_cutouts.append(tsz_ksz_cutout) \n",
    "mass_int = np.arange(0, 12, 0.2) "
   ]
  },
  {
   "cell_type": "code",
   "execution_count": null,
   "id": "qualified-scenario",
   "metadata": {},
   "outputs": [
    {
     "name": "stderr",
     "output_type": "stream",
     "text": [
      " 39%|███▉      | 194/500 [5:48:13<9:02:38, 106.40s/it] "
     ]
    }
   ],
   "source": [
    "covariance_matrix_tsz, _ = lensing_estimator.covariance_and_correlation_matrix(nber_cov, nber_clus, map_params, l, cl, cluster_corr_cutouts =  tsz_cutouts, bl = bl, nl = nl_arr[4], cl_noise = cl_noise_arr[4], correct_for_tsz = False)\n",
    "np.save('/Volumes/Extreme_SSD/codes/master_thesis/code/results/covariance_matrix_tsz4.npy', covariance_matrix_tsz)\n",
    "    \n",
    "covariance_matrix_tsz_corrected, _ = lensing_estimator.covariance_and_correlation_matrix(nber_cov, nber_clus, map_params, l, cl, cluster_corr_cutouts =  tsz_cutouts, bl = bl, nl = nl_arr[4], cl_noise = cl_noise_arr[4], correct_for_tsz = True)\n",
    "np.save('/Volumes/Extreme_SSD/codes/master_thesis/code/results/covariance_matrix_tsz_corrected4.npy', covariance_matrix_tsz_corrected)"
   ]
  },
  {
   "cell_type": "code",
   "execution_count": null,
   "id": "macro-kernel",
   "metadata": {},
   "outputs": [],
   "source": [
    "maps_rand = sims.cmb_mock_data(map_params, l, cl,  bl = bl, nl = nl_arr[4], nber_obs = nber_rand)\n",
    "stack_bg = lensing_estimator.stack(map_params, maps_rand, l = l, cl = cl, cl_noise = cl_noise_arr[4])\n",
    "del maps_rand\n",
    "np.save('/Volumes/Extreme_SSD/codes/master_thesis/code/results/stack_bg4.npy', stack_bg)"
   ]
  },
  {
   "cell_type": "code",
   "execution_count": null,
   "id": "green-egyptian",
   "metadata": {
    "scrolled": true
   },
   "outputs": [],
   "source": [
    "model_profiles = lensing_estimator.model_profiles(nber_clus, map_params, l, cl, mass_int, z, bl = bl, cl_noise = cl_noise_arr[4])\n",
    "np.save('/Volumes/Extreme_SSD/codes/master_thesis/code/results/model_profiles4.npy', model_profiles)"
   ]
  },
  {
   "cell_type": "code",
   "execution_count": null,
   "id": "compressed-cookie",
   "metadata": {},
   "outputs": [],
   "source": [
    "stack_bg = np.load('/Volumes/Extreme_SSD/codes/master_thesis/code/results/stack_bg4.npy')\n",
    "covariance_matrix_tsz = np.load('/Volumes/Extreme_SSD/codes/master_thesis/code/results/covariance_matrix_tsz4.npy')  \n",
    "covariance_matrix_tsz_corrected = np.load('/Volumes/Extreme_SSD/codes/master_thesis/code/results/covariance_matrix_tsz_corrected4.npy')\n",
    "model_profiles = np.load('/Volumes/Extreme_SSD/codes/master_thesis/code/results/model_profiles4.npy')\n",
    "\n",
    "\n",
    "lk_arr_baseline, mass_arr_baseline, error_arr_baseline = [], [], []      \n",
    "lk_arr_tsz, mass_arr_tsz, error_arr_tsz = [], [], []      \n",
    "lk_arr_ksz, mass_arr_ksz, error_arr_ksz = [], [], []  \n",
    "lk_arr_tsz_ksz, mass_arr_tsz_ksz, error_arr_tsz_ksz = [], [], []\n",
    "lk_arr_tsz_corrected, mass_arr_tsz_corrected, error_arr_tsz_corrected = [], [], []\n",
    "lk_arr_tsz_ksz_corrected, mass_arr_tsz_ksz_corrected, error_arr_tsz_ksz_corrected = [], [], []\n",
    "for i in tqdm(range(nber_runs)):    \n",
    "    maps_clus_baseline, maps_clus_tsz, maps_clus_ksz, maps_clus_tsz_ksz = sims.cmb_test_data(map_params, l, cl, cluster = cluster, bl = bl, nl = nl_arr[4], nber_obs = nber_clus, foreground_bias = True)\n",
    "    \n",
    "    stack_clus_tsz, stack_tsz = lensing_estimator.stack(map_params, maps_clus_tsz, l = l, cl = cl, cl_noise = cl_noise_arr[4], correct_for_tsz = True)\n",
    "    \n",
    "   \n",
    "    bins_tsz, lensing_dipole_profile_tsz, stack_dipole_tsz = lensing_estimator.lensing_dipole(map_params, stack_clus_tsz, stack_bg)\n",
    "    bins_tsz_corrected, lensing_dipole_profile_tsz_corrected, stack_dipole_tsz_corrected = lensing_estimator.lensing_dipole(map_params, stack_clus_tsz, stack_bg, stack_tsz = stack_tsz)\n",
    "    \n",
    "\n",
    "    data_tsz = bins_tsz, lensing_dipole_profile_tsz, covariance_matrix_tsz\n",
    "    data_tsz_corrected = bins_tsz_corrected, lensing_dipole_profile_tsz_corrected, covariance_matrix_tsz_corrected\n",
    "\n",
    "    \n",
    "    likelihood_tsz, mass_tsz, error_tsz = stats.run_ml(data_tsz, model_profiles, mass_int)\n",
    "    mass_int_lk_tsz, lk_tsz = likelihood_tsz\n",
    "    likelihood_tsz_corrected, mass_tsz_corrected, error_tsz_corrected = stats.run_ml(data_tsz_corrected, model_profiles, mass_int)\n",
    "    mass_int_lk_tsz_corrected, lk_tsz_corrected = likelihood_tsz_corrected    \n",
    "    \n",
    "    lk_arr_tsz.append(lk_tsz)\n",
    "    lk_arr_tsz_corrected.append(lk_tsz_corrected)\n",
    "  \n",
    "    mass_arr_tsz.append(mass_tsz)\n",
    "    mass_arr_tsz_corrected.append(mass_tsz_corrected)\n",
    " \n",
    "    error_arr_tsz.append(error_tsz)\n",
    "    error_arr_tsz_corrected.append(error_tsz_corrected)\n",
    "    \n",
    "del maps_clus_baseline \n",
    "del maps_clus_tsz \n",
    "del maps_clus_ksz \n",
    "del maps_clus_tsz_ksz\n",
    "\n",
    "\n",
    "\n",
    "mass_arr = [mass_arr_tsz, mass_arr_tsz_corrected]\n",
    "np.save('/Volumes/Extreme_SSD/codes/master_thesis/code/results/mass_arr_foreground_bias.npy', mass_arr)\n",
    "error_arr = [error_arr_tsz, error_arr_tsz_corrected]\n",
    "np.save('/Volumes/Extreme_SSD/codes/master_thesis/code/results/error_arr_foreground_bias.npy', error_arr)\n",
    "    \n",
    "     \n",
    "comb_lk_tsz, mass_comb_lk_tsz, error_comb_lk_tsz = stats.combined_likelihood(mass_int_lk_tsz, lk_arr_tsz)   \n",
    "comb_lk_tsz_corrected, mass_comb_lk_tsz_corrected, error_comb_lk_tsz_corrected = stats.combined_likelihood(mass_int_lk_tsz_corrected, lk_arr_tsz_corrected)   \n",
    "\n",
    "\n",
    "\n",
    "mass_arr_comb_lk = [mass_comb_lk_tsz, mass_comb_lk_tsz_corrected]#, mass_comb_lk_ksz, mass_comb_lk_tsz_ksz, mass_comb_lk_tsz_ksz_corrected]\n",
    "#np.save('/Volumes/Extreme_SSD/codes/master_thesis/code/results/mass_arr_comb_lk_foreground_bias.npy', mass_arr_comb_lk)\n",
    "error_arr_comb_lk = [error_comb_lk_tsz, error_comb_lk_tsz_corrected]#, error_comb_lk_ksz, error_comb_lk_tsz_ksz, error_comb_lk_tsz_ksz_corrected]\n",
    "#np.save('/Volumes/Extreme_SSD/codes/master_thesis/code/results/error_arr_comb_lk_foreground_bias.npy', error_arr_comb_lk)  "
   ]
  },
  {
   "cell_type": "code",
   "execution_count": null,
   "id": "representative-victoria",
   "metadata": {},
   "outputs": [],
   "source": [
    "for i in range(nber_runs):\n",
    "    plt.plot(mass_int_lk_tsz, lk_arr_tsz[i], color = 'red', alpha = 0.3)\n",
    "plt.plot(mass_int_lk_tsz_corrected, comb_lk_tsz)\n",
    "plt.axvline(M200c*1e-14)\n",
    "print(mass_comb_lk_tsz, error_comb_lk_tsz)\n",
    "plt.subplots()\n",
    "for i in range(nber_runs):\n",
    "    plt.plot(mass_int_lk_tsz_corrected, lk_arr_tsz_corrected[i], color = 'green', alpha = 0.3)\n",
    "plt.plot(mass_int_lk_tsz_corrected, comb_lk_tsz_corrected)\n",
    "plt.axvline(M200c*1e-14)\n",
    "print(mass_comb_lk_tsz_corrected, error_comb_lk_tsz_corrected)\n",
    "print(M200c*1e-14)"
   ]
  },
  {
   "cell_type": "code",
   "execution_count": null,
   "id": "unauthorized-grain",
   "metadata": {},
   "outputs": [],
   "source": []
  }
 ],
 "metadata": {
  "kernelspec": {
   "display_name": "Python 3",
   "language": "python",
   "name": "python3"
  },
  "language_info": {
   "codemirror_mode": {
    "name": "ipython",
    "version": 3
   },
   "file_extension": ".py",
   "mimetype": "text/x-python",
   "name": "python",
   "nbconvert_exporter": "python",
   "pygments_lexer": "ipython3",
   "version": "3.8.8"
  }
 },
 "nbformat": 4,
 "nbformat_minor": 5
}
