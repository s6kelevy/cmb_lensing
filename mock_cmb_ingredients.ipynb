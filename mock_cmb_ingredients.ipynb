{
 "cells": [
  {
   "cell_type": "code",
   "execution_count": 1,
   "id": "identical-swing",
   "metadata": {},
   "outputs": [],
   "source": [
    "%load_ext autoreload \n",
    "%autoreload 2\n",
    "import numpy as np\n",
    "import random\n",
    "import matplotlib.pyplot as plt\n",
    "import matplotlib.cm as cm\n",
    "import matplotlib\n",
    "from pylab import rcParams\n",
    "from matplotlib import rc;rc('text', usetex=True);rc('font', weight='bold');matplotlib.rcParams['text.latex.preamble'] = r'\\boldmath'\n",
    "rcParams['font.family'] = 'serif'\n",
    "rc('text.latex',preamble=r'\\usepackage{/Volumes/Extreme_SSD/codes/master_thesis/code/configs/apjfonts}')\n",
    "from mpl_toolkits.axes_grid1 import make_axes_locatable\n",
    "from matplotlib.lines import Line2D\n",
    "sz_ft = 18\n",
    "sz_lb = 18\n",
    "color_arr = ['indigo', 'royalblue', 'lightseagreen', 'darkgreen', 'goldenrod', 'darkred']\n",
    "from cosmo import CosmoCalc\n",
    "import sims\n",
    "import tools\n",
    "import lensing\n",
    "import foregrounds as fg\n",
    "import experiments as exp"
   ]
  },
  {
   "cell_type": "markdown",
   "id": "mysterious-merchandise",
   "metadata": {},
   "source": [
    "## Generating CMB Temperature Anisotropy Maps"
   ]
  },
  {
   "cell_type": "code",
   "execution_count": 2,
   "id": "obvious-budget",
   "metadata": {},
   "outputs": [
    {
     "name": "stderr",
     "output_type": "stream",
     "text": [
      "/Volumes/Extreme_SSD/codes/master_thesis/code/cosmo.py:98: RuntimeWarning: invalid value encountered in true_divide\n",
      "  cl = dl * 2 * np.pi / (l*(l+1))\n"
     ]
    }
   ],
   "source": [
    "map_params = [180, 0.5, 180, 0.5]\n",
    "l, cl = CosmoCalc().cmb_power_spectrum()\n",
    "cmb_map = sims.cmb_mock_data(map_params, l, cl)"
   ]
  },
  {
   "cell_type": "code",
   "execution_count": null,
   "id": "comprehensive-pierce",
   "metadata": {},
   "outputs": [],
   "source": [
    "fig, ax = plt.subplots(figsize=(5,5))\n",
    "_, extent = tools.make_grid(map_params)\n",
    "\n",
    "\n",
    "im = ax.imshow(cmb_map, extent = extent, cmap = cm.RdBu_r)\n",
    "divider = make_axes_locatable(ax)\n",
    "cax = divider.append_axes(\"right\", size=\"5%\", pad=0.1)\n",
    "\n",
    "cb = fig.colorbar(im, cax = cax)\n",
    "\n",
    "cb.set_label(label=r'$T \\ [\\mu$'+'K]', size=sz_ft)\n",
    "cb.ax.tick_params(labelsize=sz_lb)\n",
    "ax.set_xlabel(r'$\\theta_x\\ $'+'[arcmin]', fontsize = sz_ft)\n",
    "ax.set_ylabel(r'$\\theta_y\\ $'+'[arcmin]', fontsize = sz_ft)\n",
    "ax.tick_params(labelsize = sz_lb)\n",
    "ax.set_title('CMB Temperature Anisotropy Map', fontsize = sz_ft)\n",
    "\n",
    "fig.savefig('/Volumes/Extreme_SSD/codes/master_thesis/code/figures/cmb_temperature_anisotropy_map.eps', dpi = 200, bbox_inches = 'tight')"
   ]
  },
  {
   "cell_type": "markdown",
   "id": "gross-belle",
   "metadata": {},
   "source": [
    "## Cluster Convergence and Deflection Map"
   ]
  },
  {
   "cell_type": "code",
   "execution_count": null,
   "id": "thorough-accent",
   "metadata": {},
   "outputs": [],
   "source": [
    "map_params = [180, 0.5, 180, 0.5]\n",
    "kappa_map = lensing.NFW(6e14, 3, 1, 1100).convergence_map(map_params)\n",
    "alpha_vec = lensing.deflection_from_convergence(map_params, kappa_map)\n",
    "alphaX, alphaY = alpha_vec\n",
    "alpha_map = np.hypot(alphaX, alphaY)"
   ]
  },
  {
   "cell_type": "code",
   "execution_count": null,
   "id": "brutal-attachment",
   "metadata": {},
   "outputs": [],
   "source": [
    "_, extent = tools.make_grid(map_params)\n",
    "fig, axarr = plt.subplots(1,2, figsize=(8.9,8.9))\n",
    "\n",
    "im0 = axarr[0].imshow(kappa_map, extent = extent)\n",
    "\n",
    "divider = make_axes_locatable(axarr[0])\n",
    "cax = divider.append_axes(\"right\", size=\"5%\", pad=0.1)\n",
    "cb0 = fig.colorbar(im0, cax = cax)\n",
    "cb0.set_label(label = r'$\\kappa$', size=sz_ft)\n",
    "cb0.ax.tick_params(labelsize=sz_lb)\n",
    "axarr[0].set_xlabel(r'$\\theta_x\\ $'+'[arcmin]', fontsize = sz_ft)\n",
    "axarr[0].set_ylabel(r'$\\theta_y\\ $'+'[arcmin]', fontsize = sz_ft)\n",
    "axarr[0].set_title('Convergence', fontsize = sz_ft)\n",
    "axarr[0].tick_params(labelsize = sz_lb)\n",
    "\n",
    "im1 = axarr[1].imshow(alpha_map, extent = extent)\n",
    "divider = make_axes_locatable(axarr[1])\n",
    "cax = divider.append_axes(\"right\", size=\"5%\", pad=0.1)\n",
    "cb1 = fig.colorbar(im1, cax = cax)\n",
    "cb1.set_label(label = r'$\\alpha \\ $' + '[arcmin]', size=sz_ft)\n",
    "cb1.ax.tick_params(labelsize=sz_lb)\n",
    "axarr[1].set_xlabel(r'$\\theta_x\\ $'+'[arcmin]', fontsize = sz_ft)\n",
    "axarr[1].set_ylabel(r'$\\theta_y\\ $'+'[arcmin]', fontsize = sz_ft)\n",
    "axarr[1].set_title('Deflection Angle', fontsize = sz_ft)\n",
    "axarr[1].get_yaxis().set_visible(False)\n",
    "axarr[1].tick_params(labelsize = sz_lb)\n",
    "\n",
    "fig.tight_layout(pad=2)\n",
    "fig.savefig('/Volumes/Extreme_SSD/codes/master_thesis/code/figures/convergence_deflection_map.eps', dpi = 200, bbox_inches = 'tight')"
   ]
  },
  {
   "cell_type": "markdown",
   "id": "vanilla-clark",
   "metadata": {},
   "source": [
    "## kSZ and tSZ Cutout"
   ]
  },
  {
   "cell_type": "code",
   "execution_count": null,
   "id": "imposed-consciousness",
   "metadata": {},
   "outputs": [],
   "source": [
    "fname = '/Volumes/Extreme_SSD/codes/master_thesis/code/data/mdpl2_cutouts_for_tszksz_clus_detection_M1.7e+14to2.3e+14_z0.6to0.8_15320haloes_boxsize10.0am_dx0.5am.npz'\n",
    "cutouts_dic = np.load(fname, allow_pickle = 1, encoding= 'latin1')['arr_0'].item()\n",
    "mass_z_key = list(cutouts_dic.keys())[0]\n",
    "cutouts = cutouts_dic[mass_z_key]\n",
    "scale_fac = fg.compton_y_to_delta_Tcmb(150, uK = True)\n",
    "tsz_cutouts, ksz_cutouts = [], []\n",
    "for kcntr, keyname in enumerate( cutouts ):\n",
    "    tsz_cutouts.append(cutouts[keyname]['y']*scale_fac)\n",
    "    ksz_cutouts.append(cutouts[keyname]['ksz']*random.randrange(-1, 2, 2))\n",
    "tsz_cutout = tsz_cutouts[1]\n",
    "ksz_cutout = ksz_cutouts[1]"
   ]
  },
  {
   "cell_type": "code",
   "execution_count": null,
   "id": "antique-simon",
   "metadata": {},
   "outputs": [],
   "source": [
    "_, extent = tools.make_grid([20, 0.5, 20, 0.5])\n",
    "fig, axarr = plt.subplots(1,2, figsize=(8.9,8.9))\n",
    "\n",
    "im0 = axarr[0].imshow(tsz_cutout, extent = extent, cmap = cm.RdBu_r)\n",
    "divider = make_axes_locatable(axarr[0])\n",
    "cax = divider.append_axes(\"right\", size=\"5%\", pad=0.1)\n",
    "cb0 = fig.colorbar(im0, cax = cax)\n",
    "cb0.ax.tick_params(labelsize=sz_lb)\n",
    "axarr[0].set_xlabel(r'$\\theta_x\\ $'+'[arcmin]', fontsize = sz_ft)\n",
    "axarr[0].set_ylabel(r'$\\theta_y\\ $'+'[arcmin]', fontsize = sz_ft)\n",
    "axarr[0].set_title('tSZ Signal', fontsize = sz_ft)\n",
    "axarr[0].tick_params(labelsize = sz_lb)\n",
    "\n",
    "im1 = axarr[1].imshow(ksz_cutout, extent = extent, cmap = cm.RdBu_r)\n",
    "divider = make_axes_locatable(axarr[1])\n",
    "cax = divider.append_axes(\"right\", size=\"5%\", pad=0.1)\n",
    "cb1 = fig.colorbar(im1, cax = cax)\n",
    "cb1.set_label(label=r'$T \\ [\\mu$'+'K]', size=sz_ft)\n",
    "cb1.ax.tick_params(labelsize=sz_lb)\n",
    "axarr[1].set_xlabel(r'$\\theta_x\\ $'+'[arcmin]', fontsize = sz_ft)\n",
    "axarr[1].set_ylabel(r'$\\theta_y\\ $'+'[arcmin]', fontsize = sz_ft)\n",
    "axarr[1].set_title('kSZ Signal', fontsize = sz_ft)\n",
    "axarr[1].get_yaxis().set_visible(False)\n",
    "axarr[1].tick_params(labelsize = sz_lb)\n",
    "\n",
    "fig.tight_layout(pad=2)\n",
    "fig.savefig('/Volumes/Extreme_SSD/codes/master_thesis/code/figures/tSZ_kSZ_cutout.eps', dpi = 200, bbox_inches = 'tight')"
   ]
  },
  {
   "cell_type": "markdown",
   "id": "occupied-terror",
   "metadata": {},
   "source": [
    "## Extragalactic Power Spectra"
   ]
  },
  {
   "cell_type": "code",
   "execution_count": null,
   "id": "roman-vault",
   "metadata": {},
   "outputs": [],
   "source": [
    "l, cl = CosmoCalc().cmb_power_spectrum()\n",
    "l, cl_radio = fg.extragalactic_power_spectrum(150, components = ['radio'])\n",
    "l, cl_cib = fg.extragalactic_power_spectrum(150, components = ['cib'])\n",
    "l, cl_tsz = fg.extragalactic_power_spectrum(150, components = ['tsz'])\n",
    "l, cl_ksz = fg.extragalactic_power_spectrum(150, components = ['ksz'])\n",
    "l, cl_tsz_cib = fg.extragalactic_power_spectrum(150, components = ['tsz_cib'])\n",
    "l, cl_fg_total = fg.extragalactic_power_spectrum(150, components = 'all')"
   ]
  },
  {
   "cell_type": "code",
   "execution_count": null,
   "id": "generous-tyler",
   "metadata": {},
   "outputs": [],
   "source": [
    "fig, ax = plt.subplots(figsize=(11,8))\n",
    "\n",
    "ax.plot(l, cl_radio,  color = color_arr[1], label = r'RGs', ls = ':')\n",
    "ax.plot(l, cl_cib, color = color_arr[2], label = r'CIB', ls = ':')\n",
    "ax.plot(l, cl_tsz, color = color_arr[3], label = r'tSZ', ls = ':')\n",
    "ax.plot(l, cl_ksz, color = color_arr[4], label = r'kSZ', ls = ':')\n",
    "ax.plot(l, cl_tsz_cib, color = color_arr[5], label = r'tSZ-CIB', ls = ':')\n",
    "ax.plot(l, cl_fg_total, color_arr[0], label = r'Extragalactic')\n",
    "ax.plot(l, cl, 'red', label = r'CMB-TT')\n",
    "ax.plot(l, cl_fg_total+cl, 'black', label = r'Total', ls = '--')\n",
    "ax.tick_params(labelsize = sz_lb+7)\n",
    "ax.set_xlim(15, 10000) \n",
    "ax.set_xlabel(r'$\\ell$', fontsize = sz_ft+10)\n",
    "ax.set_ylabel(r'$C_{\\ell}\\ [\\mu$'+'K'+r'$^2]$', fontsize = sz_ft+10)\n",
    "ax.set_xscale('log')\n",
    "ax.set_yscale('log')\n",
    "ax.legend(ncol = 4, prop={'size': sz_lb}) \n",
    "\n",
    "fig.savefig('/Volumes/Extreme_SSD/codes/master_thesis/code/figures/extragalactic_power_spectra.eps', dpi = 200, bbox_inches = 'tight')"
   ]
  },
  {
   "cell_type": "code",
   "execution_count": null,
   "id": "large-nirvana",
   "metadata": {},
   "outputs": [],
   "source": []
  }
 ],
 "metadata": {
  "kernelspec": {
   "display_name": "Python 3",
   "language": "python",
   "name": "python3"
  },
  "language_info": {
   "codemirror_mode": {
    "name": "ipython",
    "version": 3
   },
   "file_extension": ".py",
   "mimetype": "text/x-python",
   "name": "python",
   "nbconvert_exporter": "python",
   "pygments_lexer": "ipython3",
   "version": "3.8.8"
  }
 },
 "nbformat": 4,
 "nbformat_minor": 5
}
