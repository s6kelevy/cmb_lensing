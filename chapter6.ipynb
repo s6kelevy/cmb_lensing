{
 "cells": [
  {
   "cell_type": "code",
   "execution_count": 1,
   "metadata": {},
   "outputs": [],
   "source": [
    "%load_ext autoreload \n",
    "%autoreload 2\n",
    "import numpy as np\n",
    "import random\n",
    "from colossus.cosmology import cosmology\n",
    "cosmology.setCosmology('planck18')\n",
    "from colossus.halo import concentration, mass_defs\n",
    "import matplotlib.pyplot as plt\n",
    "import matplotlib.cm as cm\n",
    "import matplotlib\n",
    "from pylab import rcParams\n",
    "from matplotlib import rc;rc('text', usetex=True);rc('font', weight='bold');matplotlib.rcParams['text.latex.preamble'] = r'\\boldmath'\n",
    "rcParams['font.family'] = 'serif'\n",
    "rc('text.latex',preamble=r'\\usepackage{/Volumes/Extreme_SSD/codes/master_thesis/code/configs/apjfonts}')\n",
    "from matplotlib.lines import Line2D\n",
    "sz_ft = 20\n",
    "sz_lb = 14\n",
    "color_arr = ['indigo', 'royalblue', 'lightseagreen', 'darkgreen', 'goldenrod', 'darkred']\n",
    "from tqdm import tqdm\n",
    "import cosmo\n",
    "import lensing_estimator\n",
    "from cosmo import CosmoCalc\n",
    "import lensing\n",
    "import foregrounds as fg\n",
    "import experiments as exp\n",
    "import sims\n",
    "import stats\n",
    "import tools\n",
    "import ilc"
   ]
  },
  {
   "cell_type": "markdown",
   "metadata": {},
   "source": [
    "## General Settings"
   ]
  },
  {
   "cell_type": "code",
   "execution_count": 2,
   "metadata": {},
   "outputs": [
    {
     "name": "stderr",
     "output_type": "stream",
     "text": [
      "/Volumes/Extreme_SSD/codes/master_thesis/code/cosmo.py:98: RuntimeWarning: invalid value encountered in true_divide\n",
      "  cl = dl * 2 * np.pi / (l*(l+1))\n",
      "/Volumes/Extreme_SSD/codes/master_thesis/code/experiments.py:134: RuntimeWarning: divide by zero encountered in power\n",
      "  nl_red = n_red*(l/elknee)**alphaknee\n",
      "/Volumes/Extreme_SSD/codes/master_thesis/code/experiments.py:141: RuntimeWarning: divide by zero encountered in power\n",
      "  nl_red2= n_red2*(l/elknee2)**alphaknee2\n",
      "/Volumes/Extreme_SSD/codes/master_thesis/code/foregrounds.py:82: RuntimeWarning: divide by zero encountered in true_divide\n",
      "  cl_rg = (2*np.pi)/(l * (l+1))*dl_rg\n",
      "/Volumes/Extreme_SSD/codes/master_thesis/code/foregrounds.py:82: RuntimeWarning: invalid value encountered in multiply\n",
      "  cl_rg = (2*np.pi)/(l * (l+1))*dl_rg\n",
      "/Volumes/Extreme_SSD/codes/master_thesis/code/foregrounds.py:112: RuntimeWarning: divide by zero encountered in true_divide\n",
      "  cl_cib =  (2*np.pi)/(l * (l+1)) * dl_cib\n",
      "/Volumes/Extreme_SSD/codes/master_thesis/code/foregrounds.py:112: RuntimeWarning: invalid value encountered in multiply\n",
      "  cl_cib =  (2*np.pi)/(l * (l+1)) * dl_cib\n",
      "/Volumes/Extreme_SSD/codes/master_thesis/code/foregrounds.py:129: RuntimeWarning: divide by zero encountered in true_divide\n",
      "  cl_tsz =  (2*np.pi)/(l * (l+1)) * dl_tsz\n",
      "/Volumes/Extreme_SSD/codes/master_thesis/code/foregrounds.py:129: RuntimeWarning: invalid value encountered in multiply\n",
      "  cl_tsz =  (2*np.pi)/(l * (l+1)) * dl_tsz\n",
      "/Volumes/Extreme_SSD/codes/master_thesis/code/foregrounds.py:139: RuntimeWarning: divide by zero encountered in true_divide\n",
      "  cl_ksz =  (2*np.pi)/(l * (l+1)) * dl_ksz_freq0\n",
      "/Volumes/Extreme_SSD/codes/master_thesis/code/foregrounds.py:139: RuntimeWarning: invalid value encountered in multiply\n",
      "  cl_ksz =  (2*np.pi)/(l * (l+1)) * dl_ksz_freq0\n"
     ]
    }
   ],
   "source": [
    "nber_clus = 3000\n",
    "nber_rand = 50000\n",
    "nber_cov = 1000\n",
    "nber_runs = 25\n",
    "map_params = [180, 0.5, 180, 0.5] \n",
    "l, cl = CosmoCalc().cmb_power_spectrum()\n",
    "z = 0.7\n",
    "cluster = [2e14, cosmo.concentration_parameter(2e14, z, 0.674), z]\n",
    "l, bl = exp.beam_power_spectrum(beam_fwhm = 1.4)\n",
    "mass_int = np.arange(0, 4, 0.1)\n",
    "\n",
    "\n",
    "l, cl_residual_so, res_ilc_dic_so, weights_arr_so = ilc.residuals_and_weights(components = 'all', experiment = 'so_lat', cov_from_sims = True)\n",
    "cl_noise_so =  cl_residual_so\n",
    "\n",
    "l, cl_residual_fyst, res_ilc_dic_fyst, weights_arr_fyst = ilc.residuals_and_weights(components = 'all', experiment = 'so_lat_fyst', cov_from_sims = True)\n",
    "cl_noise_fyst =  cl_residual_fyst\n",
    "\n",
    "l, cl_residual_s4wide, res_ilc_dic_s4wide, weights_arr_s4wide = ilc.residuals_and_weights(components = 'all', experiment = 's4wide', cov_from_sims = True)\n",
    "cl_noise_s4wide =  cl_residual_s4wide\n",
    "\n",
    "cl_residuals = [cl_residual_so, cl_residual_fyst, cl_residual_s4wide]"
   ]
  },
  {
   "cell_type": "markdown",
   "metadata": {},
   "source": [
    "## SNR for SO LAT, SO LAT + FYST, S4-Wide"
   ]
  },
  {
   "cell_type": "code",
   "execution_count": 3,
   "metadata": {},
   "outputs": [],
   "source": [
    "maps_rand_so = sims.cmb_forecast_data(experiment = 'so_lat', map_params = map_params, l = l, cl = cl, cl_residual = cl_residual_so, bl = bl, nber_obs = nber_rand)\n",
    "stack_bg_so = lensing_estimator.stack(map_params, maps_rand_so, l = l, cl = cl, cl_noise = cl_noise_so)                                       \n",
    "del maps_rand_so\n",
    "np.save('/Volumes/Extreme_SSD/codes/master_thesis/code/results/stack_bg_so.npy', stack_bg_so)  \n",
    "\n",
    "maps_rand_fyst = sims.cmb_forecast_data(experiment = 'so_lat_fyst', map_params = map_params, l = l, cl = cl, cl_residual = cl_residual_fyst, bl = bl, nber_obs = nber_rand)\n",
    "stack_bg_fyst = lensing_estimator.stack(map_params, maps_rand_fyst, l = l, cl = cl, cl_noise = cl_noise_fyst)                                       \n",
    "del maps_rand_fyst\n",
    "np.save('/Volumes/Extreme_SSD/codes/master_thesis/code/results/stack_bg_fyst.npy', stack_bg_fyst) \n",
    "\n",
    "\n",
    "maps_rand_s4wide = sims.cmb_forecast_data(experiment = 's4wide', map_params = map_params, l = l, cl = cl, cl_residual = cl_residual_s4wide, bl = bl, nber_obs = nber_rand)\n",
    "stack_bg_s4wide = lensing_estimator.stack(map_params, maps_rand_s4wide, l = l, cl = cl, cl_noise = cl_noise_s4wide)                                       \n",
    "del maps_rand_s4wide\n",
    "np.save('/Volumes/Extreme_SSD/codes/master_thesis/code/results/stack_bg_s4wide.npy', stack_bg_s4wide)   "
   ]
  },
  {
   "cell_type": "code",
   "execution_count": null,
   "metadata": {},
   "outputs": [],
   "source": [
    "covariance_matrix_so, _ = lensing_estimator.covariance_and_correlation_matrix(nber_cov*2, nber_clus, map_params, l, cl, bl = bl, experiment = 'so_lat', components = 'all', cl_noise = cl_noise_so)\n",
    "np.save('/Volumes/Extreme_SSD/codes/master_thesis/code/results/covariance_matrix_so.npy', covariance_matrix_so)\n",
    "\n",
    "covariance_matrix_fyst, _ = lensing_estimator.covariance_and_correlation_matrix(nber_cov, nber_clus, map_params, l, cl, bl = bl, experiment = 'so_lat_fyst', components = 'all', cl_noise = cl_noise_fyst)\n",
    "np.save('/Volumes/Extreme_SSD/codes/master_thesis/code/results/covariance_matrix_fyst.npy', covariance_matrix_fyst)\n",
    "\n",
    "covariance_matrix_s4wide, _ = lensing_estimator.covariance_and_correlation_matrix(nber_cov, nber_clus, map_params, l, cl, bl = bl, experiment = 's4wide', components = 'all', cl_noise = cl_noise_s4wide)\n",
    "np.save('/Volumes/Extreme_SSD/codes/master_thesis/code/results/covariance_matrix_s4wide.npy', covariance_matrix_s4wide)"
   ]
  },
  {
   "cell_type": "code",
   "execution_count": 45,
   "metadata": {},
   "outputs": [],
   "source": [
    "#model_profiles_so = lensing_estimator.model_profiles(nber_clus, map_params, l, cl, mass_int, z, bl = bl, cl_noise = cl_noise_so)\n",
    "#np.save('/Volumes/Extreme_SSD/codes/master_thesis/code/results/model_profiles_so.npy', model_profiles_so)\n",
    "\n",
    "#model_profiles_fyst = lensing_estimator.model_profiles(nber_clus, map_params, l, cl, mass_int, z, bl = bl, cl_noise = cl_noise_fyst)\n",
    "#np.save('/Volumes/Extreme_SSD/codes/master_thesis/code/results/model_profiles_fyst.npy', model_profiles_fyst)\n",
    "\n",
    "model_profiles_s4wide = lensing_estimator.model_profiles(nber_clus, map_params, l, cl, mass_int, z, bl = bl, cl_noise = cl_noise_s4wide)\n",
    "np.save('/Volumes/Extreme_SSD/codes/master_thesis/code/results/model_profiles_s4wide.npy', model_profiles_s4wide)"
   ]
  },
  {
   "cell_type": "code",
   "execution_count": null,
   "metadata": {},
   "outputs": [
    {
     "name": "stderr",
     "output_type": "stream",
     "text": [
      "  0%|          | 0/25 [00:00<?, ?it/s]/Volumes/Extreme_SSD/anaconda/anaconda3/lib/python3.8/site-packages/scipy/optimize/minpack.py:475: RuntimeWarning: Number of calls to function has reached maxfev = 1000.\n",
      "  warnings.warn(errors[info][0], RuntimeWarning)\n",
      "  4%|▍         | 1/25 [01:57<47:10, 117.95s/it]"
     ]
    }
   ],
   "source": [
    "stack_bg_so = np.load('/Volumes/Extreme_SSD/codes/master_thesis/code/results/stack_bg_so.npy')   \n",
    "covariance_matrix_so = np.load('/Volumes/Extreme_SSD/codes/master_thesis/code/results/covariance_matrix_so.npy')\n",
    "model_profiles_so = np.load('/Volumes/Extreme_SSD/codes/master_thesis/code/results/model_profiles_so.npy')\n",
    "stack_bg_fyst = np.load('/Volumes/Extreme_SSD/codes/master_thesis/code/results/stack_bg_fyst.npy')   \n",
    "covariance_matrix_fyst = np.load('/Volumes/Extreme_SSD/codes/master_thesis/code/results/covariance_matrix_fyst.npy')\n",
    "model_profiles_fyst = np.load('/Volumes/Extreme_SSD/codes/master_thesis/code/results/model_profiles_fyst.npy')\n",
    "stack_bg_s4wide = np.load('/Volumes/Extreme_SSD/codes/master_thesis/code/results/stack_bg_s4wide.npy')   \n",
    "covariance_matrix_s4wide = np.load('/Volumes/Extreme_SSD/codes/master_thesis/code/results/covariance_matrix_s4wide.npy')\n",
    "model_profiles_s4wide = np.load('/Volumes/Extreme_SSD/codes/master_thesis/code/results/model_profiles_s4wide.npy')\n",
    "\n",
    "\n",
    "lk_arr_so = []  \n",
    "lk_arr_fyst = []   \n",
    "lk_arr_s4wide = []   \n",
    "for i in tqdm(range(nber_runs)):  \n",
    "    maps_clus = sims.cmb_forecast_test_data(map_params, l, cl, cluster = cluster, cl_residuals = cl_residuals, bl = bl, nber_obs = nber_clus)\n",
    "    maps_clus_so, maps_clus_fyst, maps_clus_s4wide = maps_clus\n",
    "    \n",
    "    stack_clus_so = lensing_estimator.stack(map_params, maps_clus_so, l = l, cl = cl, cl_noise = cl_noise_so)\n",
    "    stack_clus_fyst = lensing_estimator.stack(map_params, maps_clus_fyst, l = l, cl = cl, cl_noise = cl_noise_fyst)\n",
    "    stack_clus_s4wide = lensing_estimator.stack(map_params, maps_clus_s4wide, l = l, cl = cl, cl_noise = cl_noise_s4wide)\n",
    "        \n",
    "    bins_so, lensing_dipole_profile_so, stack_dipole_so = lensing_estimator.lensing_dipole(map_params, stack_clus_so, stack_bg_so)\n",
    "    bins_fyst, lensing_dipole_profile_fyst, stack_dipole_fyst = lensing_estimator.lensing_dipole(map_params, stack_clus_fyst, stack_bg_fyst)\n",
    "    bins_s4wide, lensing_dipole_profile_s4wide, stack_dipole_s4wide = lensing_estimator.lensing_dipole(map_params, stack_clus_s4wide, stack_bg_s4wide)\n",
    "    \n",
    "    data_so = bins_so, lensing_dipole_profile_so, covariance_matrix_so\n",
    "    data_fyst = bins_fyst, lensing_dipole_profile_fyst, covariance_matrix_fyst\n",
    "    data_s4wide = bins_s4wide, lensing_dipole_profile_s4wide, covariance_matrix_s4wide\n",
    "   \n",
    "    \n",
    "    likelihood_so, _, _ = stats.run_ml(data_so, model_profiles_so, mass_int)#, normalize = False)\n",
    "    mass_int_lk_so, lk_so = likelihood_so\n",
    "    lk_arr_so.append(lk_so)\n",
    "    likelihood_fyst, _, _ = stats.run_ml(data_fyst, model_profiles_fyst, mass_int)#, normalize = False)\n",
    "    mass_int_lk_fyst, lk_fyst = likelihood_fyst\n",
    "    lk_arr_fyst.append(lk_fyst)\n",
    "    likelihood_s4wide, _, _ = stats.run_ml(data_s4wide, model_profiles_s4wide, mass_int)#, normalize = False)\n",
    "    mass_int_lk_s4wide, lk_s4wide = likelihood_s4wide\n",
    "    lk_arr_s4wide.append(lk_s4wide)    \n",
    "    \n",
    "    del maps_clus\n",
    "    del maps_clus_so\n",
    "    del maps_clus_fyst\n",
    "    del maps_clus_s4wide\n",
    "\n",
    "\n",
    "    \n",
    "comb_lk_so, mass_value_comb_lk_so, error_comb_lk_so = stats.combined_likelihood(mass_int_lk_so, lk_arr_so)#, normalize = False)\n",
    "comb_lk_fyst, mass_value_comb_lk_fyst, error_comb_lk_fyst = stats.combined_likelihood(mass_int_lk_fyst, lk_arr_fyst)#, normalize = False) \n",
    "comb_lk_s4wide, mass_value_comb_lk_s4wide, error_comb_lk_s4wide = stats.combined_likelihood(mass_int_lk_s4wide, lk_arr_s4wide)#, normalize = False) \n",
    "\n",
    "snr_so = stats.signal_to_noise(comb_lk_so)\n",
    "snr_fyst = stats.signal_to_noise(comb_lk_fyst)\n",
    "snr_s4wide = stats.signal_to_noise(comb_lk_s4wide)\n",
    "\n",
    "snr_arr = [snr_so, snr_fyst, snr_s4wide]\n",
    "\n",
    "np.save('/Volumes/Extreme_SSD/codes/master_thesis/code/results/snr.npy', snr_arr) \n",
    "\n",
    "snr_results = \"{0:11.3f}\".format(snr_so) + \"\\n\"\n",
    "snr_results += \"{0:11.3f}\".format(snr_fyst) + \"\\n\"          \n",
    "snr_results += \"{0:11.3f}\".format(snr_s4wide) + \"\\n\"\n",
    "\n",
    "file = open('/Volumes/Extreme_SSD/codes/master_thesis/code/results/snr.txt',\"w\")\n",
    "file.write(snr_results)\n",
    "file.close() "
   ]
  },
  {
   "cell_type": "code",
   "execution_count": null,
   "metadata": {},
   "outputs": [],
   "source": [
    "for i in range(25):\n",
    "    plt.plot(mass_int_lk_so, lk_arr_so[i], color = 'red', alpha = 0.3)\n",
    "plt.plot(mass_int_lk_so, comb_lk_so, color = 'black')\n",
    "plt.subplots()\n",
    "for i in range(25):\n",
    "    plt.plot(mass_int_lk_fyst, lk_arr_fyst[i], color = 'red', alpha = 0.3)\n",
    "plt.plot(mass_int_lk_fyst, comb_lk_fyst, color = 'black')\n",
    "plt.subplots()\n",
    "for i in range(25):\n",
    "    plt.plot(mass_int_lk_s4wide, lk_arr_s4wide[i], color = 'red', alpha = 0.3)\n",
    "plt.plot(mass_int_lk_s4wide, comb_lk_s4wide, color = 'black')"
   ]
  },
  {
   "cell_type": "markdown",
   "metadata": {},
   "source": [
    "## Plots"
   ]
  },
  {
   "cell_type": "code",
   "execution_count": null,
   "metadata": {},
   "outputs": [],
   "source": [
    "specs_dic, corr_noise_bands, rho = exp.specs('so_lat')\n",
    "freq_arr = sorted( specs_dic.keys() )\n",
    "beam_fwhm_arr, whitenoise_arr, rednoise_arr, elknee_arr, alphaknee_arr = [], [], [], [], []\n",
    "for freq in freq_arr:\n",
    "    beam_fwhm, noiseval_white, noiseval_red, elknee, alphaknee = specs_dic[freq]\n",
    "    beam_fwhm_arr.append(beam_fwhm)\n",
    "    whitenoise_arr.append(noiseval_white)\n",
    "    rednoise_arr.append(noiseval_red)\n",
    "    elknee_arr.append(elknee)\n",
    "    alphaknee_arr.append(alphaknee) \n",
    "\n",
    "\n",
    "beam_arr = []\n",
    "for i in range(len(beam_fwhm_arr)):\n",
    "    l, bl = exp.beam_power_spectrum(beam_fwhm_arr[i])\n",
    "    beam_arr.append(np.sqrt(bl))     \n",
    "    \n",
    "noise_power_white_arr = []\n",
    "for i in range(len(whitenoise_arr)):\n",
    "    l, nl = exp.white_noise_power_spectrum(whitenoise_arr[i])\n",
    "    noise_power_white_arr.append(nl)    \n",
    "    \n",
    "noise_power_red_arr = []\n",
    "for i in range(len(rednoise_arr)):\n",
    "    l, nl = exp.red_noise_power_spectrum(rednoise_arr[i], elknee_arr[i], alphaknee_arr[i])\n",
    "    noise_power_red_arr.append(nl)\n",
    "    \n",
    "l, nl_dic = exp.noise_power_spectra_dic(experiment = 'so_lat', deconvolve = False, use_cross_power = False)\n",
    "noise_power_arr = []\n",
    "for freq in freq_arr:\n",
    "    noise_power_arr.append(nl_dic[freq])"
   ]
  },
  {
   "cell_type": "code",
   "execution_count": null,
   "metadata": {},
   "outputs": [],
   "source": [
    "fig, axarr = plt.subplots(1,2, figsize=(13.5,5.5))\n",
    "cmap = cm.jet\n",
    "color_grad = [cmap(int(d)) for d in np.linspace(0, 255, len(freq_arr))]\n",
    "\n",
    "for i in range(len(freq_arr)):\n",
    "    axarr[0].plot(l, beam_arr[i],  color = color_grad[i], label = str(freq_arr[i])+' GHz')\n",
    "axarr[0].set_xlabel(r'$\\ell$', fontsize = sz_ft)\n",
    "axarr[0].set_ylabel(r'$b_{\\ell}$', fontsize = sz_ft)\n",
    "axarr[0].set_ylim(0,1.3)\n",
    "axarr[0].tick_params(labelsize = sz_lb)\n",
    "axarr[0].legend(ncol = 3, prop={'size': sz_lb}) \n",
    "\n",
    "for i in range(len(freq_arr)):\n",
    "    axarr[1].plot(l, noise_power_arr[i],  color = color_grad[i], ls = '-')\n",
    "    axarr[1].plot(l, noise_power_white_arr[i],  color = color_grad[i], ls = '--')\n",
    "    axarr[1].plot(l, noise_power_red_arr[i],  color = color_grad[i], ls = ':')\n",
    "\n",
    "axarr[1].set_ylabel(r'$N_{\\ell}\\ [\\mu$'+'K'+r'$^2]$', fontsize = sz_ft)\n",
    "axarr[1].tick_params(labelsize = sz_lb)\n",
    "axarr[1].set_xscale('log')\n",
    "axarr[1].set_yscale('log')\n",
    "axarr[1].set_xlim(100, 10000) \n",
    "axarr[1].set_ylim(1e-7, 1e4)\n",
    "axarr[1].set_xlabel(r'$\\ell$', fontsize = sz_ft)\n",
    "patches = [Line2D([0], [0], color = c, marker='o', ls = '') for c in color_arr]\n",
    "patches+= [Line2D([0], [0], color='black',linestyle='-')]\n",
    "patches+= [Line2D([0], [0], color='black',linestyle='--')]\n",
    "patches+= [Line2D([0], [0], color='black',linestyle=':')]\n",
    "labels = [str(freq_arr[0])+' GHz', str(freq_arr[1])+' GHz', str(freq_arr[2])+' GHz', str(freq_arr[3])+' GHz',\n",
    "          str(freq_arr[4])+' GHz', str(freq_arr[5])+' GHz','Total Noise', 'White Noise', 'Red Noise']\n",
    "axarr[1].legend(patches, labels, ncol = 3, prop={'size': sz_lb})\n",
    "\n",
    "fig.tight_layout(pad=3)\n",
    "fig.savefig('/Volumes/Extreme_SSD/codes/master_thesis/code/figures/beam_and_noise_so_lat.eps', dpi = 200, bbox_inches = 'tight')"
   ]
  },
  {
   "cell_type": "code",
   "execution_count": null,
   "metadata": {
    "scrolled": false
   },
   "outputs": [],
   "source": [
    "fig, ax = plt.subplots(figsize=(9,6))\n",
    "\n",
    "ax.set_yscale('log')\n",
    "ax.plot(l, cl_residual_so-res_ilc_dic_so['ksz'], label = 'SO LAT', color = color_arr[0])\n",
    "ax.plot(l, cl_residual_fyst-res_ilc_dic_fyst['ksz'], label = 'SO LAT + FYST', color = color_arr[1])\n",
    "ax.plot(l, cl_residual_s4wide-res_ilc_dic_s4wide['ksz'], label = 'S4-Wide', color = color_arr[2])\n",
    "ax.set_ylabel('Residual Power', fontsize = sz_ft)\n",
    "ax.set_xlabel(r'$\\ell$', fontsize = sz_ft)\n",
    "ax.tick_params(labelsize = sz_lb)\n",
    "ax.set_xlim(100, 10000)\n",
    "ax.set_ylim(1e-6, 1e-2)\n",
    "ax.legend(prop={'size': sz_lb}) \n",
    "\n",
    "plt.savefig('/Volumes/Extreme_SSD/codes/master_thesis/code/figures/residuals.eps', dpi = 200.)"
   ]
  },
  {
   "cell_type": "code",
   "execution_count": null,
   "metadata": {},
   "outputs": [],
   "source": [
    "experiments = ['SO LAT', 'SO LAT + FYST', 'S4-Wide']\n",
    "snr_arr = np.load('/Volumes/Extreme_SSD/codes/master_thesis/code/results/snr.npy') \n",
    "plt.plot(experiments, snr_arr, ls = '', marker = 'o')\n",
    "plt.savefig('/Volumes/Extreme_SSD/codes/master_thesis/code/figures/forecasts.eps', dpi = 200., bbox_inches = 'tight', pad_inches = 0.1)"
   ]
  },
  {
   "cell_type": "code",
   "execution_count": null,
   "metadata": {},
   "outputs": [],
   "source": []
  }
 ],
 "metadata": {
  "kernelspec": {
   "display_name": "Python 3",
   "language": "python",
   "name": "python3"
  },
  "language_info": {
   "codemirror_mode": {
    "name": "ipython",
    "version": 3
   },
   "file_extension": ".py",
   "mimetype": "text/x-python",
   "name": "python",
   "nbconvert_exporter": "python",
   "pygments_lexer": "ipython3",
   "version": "3.8.8"
  }
 },
 "nbformat": 4,
 "nbformat_minor": 4
}
